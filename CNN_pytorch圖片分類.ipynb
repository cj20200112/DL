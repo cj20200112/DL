{
  "nbformat": 4,
  "nbformat_minor": 0,
  "metadata": {
    "colab": {
      "provenance": []
    },
    "kernelspec": {
      "name": "python3",
      "display_name": "Python 3"
    },
    "language_info": {
      "name": "python"
    },
    "widgets": {
      "application/vnd.jupyter.widget-state+json": {
        "b28eda078ea14e5c9b2855bbf99bf876": {
          "model_module": "@jupyter-widgets/controls",
          "model_name": "HBoxModel",
          "model_module_version": "1.5.0",
          "state": {
            "_dom_classes": [],
            "_model_module": "@jupyter-widgets/controls",
            "_model_module_version": "1.5.0",
            "_model_name": "HBoxModel",
            "_view_count": null,
            "_view_module": "@jupyter-widgets/controls",
            "_view_module_version": "1.5.0",
            "_view_name": "HBoxView",
            "box_style": "",
            "children": [
              "IPY_MODEL_616a3ffd4f6c4969b26176bc73a8814c",
              "IPY_MODEL_ee24ea0009dc41f5b8ac3aa19f8685bc",
              "IPY_MODEL_3752ddf896da497d90f2abdda80702b4"
            ],
            "layout": "IPY_MODEL_835b1bd0de354a44b215ce87310b1b71"
          }
        },
        "616a3ffd4f6c4969b26176bc73a8814c": {
          "model_module": "@jupyter-widgets/controls",
          "model_name": "HTMLModel",
          "model_module_version": "1.5.0",
          "state": {
            "_dom_classes": [],
            "_model_module": "@jupyter-widgets/controls",
            "_model_module_version": "1.5.0",
            "_model_name": "HTMLModel",
            "_view_count": null,
            "_view_module": "@jupyter-widgets/controls",
            "_view_module_version": "1.5.0",
            "_view_name": "HTMLView",
            "description": "",
            "description_tooltip": null,
            "layout": "IPY_MODEL_0724ba28695d42c389f429f7f8cc42b0",
            "placeholder": "​",
            "style": "IPY_MODEL_bcf71b88b73d4ad4b1b2b6da809874b1",
            "value": "100%"
          }
        },
        "ee24ea0009dc41f5b8ac3aa19f8685bc": {
          "model_module": "@jupyter-widgets/controls",
          "model_name": "FloatProgressModel",
          "model_module_version": "1.5.0",
          "state": {
            "_dom_classes": [],
            "_model_module": "@jupyter-widgets/controls",
            "_model_module_version": "1.5.0",
            "_model_name": "FloatProgressModel",
            "_view_count": null,
            "_view_module": "@jupyter-widgets/controls",
            "_view_module_version": "1.5.0",
            "_view_name": "ProgressView",
            "bar_style": "success",
            "description": "",
            "description_tooltip": null,
            "layout": "IPY_MODEL_c3d3ae9a82ab470195a1565c42969bea",
            "max": 10,
            "min": 0,
            "orientation": "horizontal",
            "style": "IPY_MODEL_d807f995277b4b80b46023db1a50f910",
            "value": 10
          }
        },
        "3752ddf896da497d90f2abdda80702b4": {
          "model_module": "@jupyter-widgets/controls",
          "model_name": "HTMLModel",
          "model_module_version": "1.5.0",
          "state": {
            "_dom_classes": [],
            "_model_module": "@jupyter-widgets/controls",
            "_model_module_version": "1.5.0",
            "_model_name": "HTMLModel",
            "_view_count": null,
            "_view_module": "@jupyter-widgets/controls",
            "_view_module_version": "1.5.0",
            "_view_name": "HTMLView",
            "description": "",
            "description_tooltip": null,
            "layout": "IPY_MODEL_ce8dbe0c887f4412951c36706b5310ab",
            "placeholder": "​",
            "style": "IPY_MODEL_e776b89e507449c3afe41acf3923763d",
            "value": " 10/10 [02:20&lt;00:00, 14.32s/it]"
          }
        },
        "835b1bd0de354a44b215ce87310b1b71": {
          "model_module": "@jupyter-widgets/base",
          "model_name": "LayoutModel",
          "model_module_version": "1.2.0",
          "state": {
            "_model_module": "@jupyter-widgets/base",
            "_model_module_version": "1.2.0",
            "_model_name": "LayoutModel",
            "_view_count": null,
            "_view_module": "@jupyter-widgets/base",
            "_view_module_version": "1.2.0",
            "_view_name": "LayoutView",
            "align_content": null,
            "align_items": null,
            "align_self": null,
            "border": null,
            "bottom": null,
            "display": null,
            "flex": null,
            "flex_flow": null,
            "grid_area": null,
            "grid_auto_columns": null,
            "grid_auto_flow": null,
            "grid_auto_rows": null,
            "grid_column": null,
            "grid_gap": null,
            "grid_row": null,
            "grid_template_areas": null,
            "grid_template_columns": null,
            "grid_template_rows": null,
            "height": null,
            "justify_content": null,
            "justify_items": null,
            "left": null,
            "margin": null,
            "max_height": null,
            "max_width": null,
            "min_height": null,
            "min_width": null,
            "object_fit": null,
            "object_position": null,
            "order": null,
            "overflow": null,
            "overflow_x": null,
            "overflow_y": null,
            "padding": null,
            "right": null,
            "top": null,
            "visibility": null,
            "width": null
          }
        },
        "0724ba28695d42c389f429f7f8cc42b0": {
          "model_module": "@jupyter-widgets/base",
          "model_name": "LayoutModel",
          "model_module_version": "1.2.0",
          "state": {
            "_model_module": "@jupyter-widgets/base",
            "_model_module_version": "1.2.0",
            "_model_name": "LayoutModel",
            "_view_count": null,
            "_view_module": "@jupyter-widgets/base",
            "_view_module_version": "1.2.0",
            "_view_name": "LayoutView",
            "align_content": null,
            "align_items": null,
            "align_self": null,
            "border": null,
            "bottom": null,
            "display": null,
            "flex": null,
            "flex_flow": null,
            "grid_area": null,
            "grid_auto_columns": null,
            "grid_auto_flow": null,
            "grid_auto_rows": null,
            "grid_column": null,
            "grid_gap": null,
            "grid_row": null,
            "grid_template_areas": null,
            "grid_template_columns": null,
            "grid_template_rows": null,
            "height": null,
            "justify_content": null,
            "justify_items": null,
            "left": null,
            "margin": null,
            "max_height": null,
            "max_width": null,
            "min_height": null,
            "min_width": null,
            "object_fit": null,
            "object_position": null,
            "order": null,
            "overflow": null,
            "overflow_x": null,
            "overflow_y": null,
            "padding": null,
            "right": null,
            "top": null,
            "visibility": null,
            "width": null
          }
        },
        "bcf71b88b73d4ad4b1b2b6da809874b1": {
          "model_module": "@jupyter-widgets/controls",
          "model_name": "DescriptionStyleModel",
          "model_module_version": "1.5.0",
          "state": {
            "_model_module": "@jupyter-widgets/controls",
            "_model_module_version": "1.5.0",
            "_model_name": "DescriptionStyleModel",
            "_view_count": null,
            "_view_module": "@jupyter-widgets/base",
            "_view_module_version": "1.2.0",
            "_view_name": "StyleView",
            "description_width": ""
          }
        },
        "c3d3ae9a82ab470195a1565c42969bea": {
          "model_module": "@jupyter-widgets/base",
          "model_name": "LayoutModel",
          "model_module_version": "1.2.0",
          "state": {
            "_model_module": "@jupyter-widgets/base",
            "_model_module_version": "1.2.0",
            "_model_name": "LayoutModel",
            "_view_count": null,
            "_view_module": "@jupyter-widgets/base",
            "_view_module_version": "1.2.0",
            "_view_name": "LayoutView",
            "align_content": null,
            "align_items": null,
            "align_self": null,
            "border": null,
            "bottom": null,
            "display": null,
            "flex": null,
            "flex_flow": null,
            "grid_area": null,
            "grid_auto_columns": null,
            "grid_auto_flow": null,
            "grid_auto_rows": null,
            "grid_column": null,
            "grid_gap": null,
            "grid_row": null,
            "grid_template_areas": null,
            "grid_template_columns": null,
            "grid_template_rows": null,
            "height": null,
            "justify_content": null,
            "justify_items": null,
            "left": null,
            "margin": null,
            "max_height": null,
            "max_width": null,
            "min_height": null,
            "min_width": null,
            "object_fit": null,
            "object_position": null,
            "order": null,
            "overflow": null,
            "overflow_x": null,
            "overflow_y": null,
            "padding": null,
            "right": null,
            "top": null,
            "visibility": null,
            "width": null
          }
        },
        "d807f995277b4b80b46023db1a50f910": {
          "model_module": "@jupyter-widgets/controls",
          "model_name": "ProgressStyleModel",
          "model_module_version": "1.5.0",
          "state": {
            "_model_module": "@jupyter-widgets/controls",
            "_model_module_version": "1.5.0",
            "_model_name": "ProgressStyleModel",
            "_view_count": null,
            "_view_module": "@jupyter-widgets/base",
            "_view_module_version": "1.2.0",
            "_view_name": "StyleView",
            "bar_color": null,
            "description_width": ""
          }
        },
        "ce8dbe0c887f4412951c36706b5310ab": {
          "model_module": "@jupyter-widgets/base",
          "model_name": "LayoutModel",
          "model_module_version": "1.2.0",
          "state": {
            "_model_module": "@jupyter-widgets/base",
            "_model_module_version": "1.2.0",
            "_model_name": "LayoutModel",
            "_view_count": null,
            "_view_module": "@jupyter-widgets/base",
            "_view_module_version": "1.2.0",
            "_view_name": "LayoutView",
            "align_content": null,
            "align_items": null,
            "align_self": null,
            "border": null,
            "bottom": null,
            "display": null,
            "flex": null,
            "flex_flow": null,
            "grid_area": null,
            "grid_auto_columns": null,
            "grid_auto_flow": null,
            "grid_auto_rows": null,
            "grid_column": null,
            "grid_gap": null,
            "grid_row": null,
            "grid_template_areas": null,
            "grid_template_columns": null,
            "grid_template_rows": null,
            "height": null,
            "justify_content": null,
            "justify_items": null,
            "left": null,
            "margin": null,
            "max_height": null,
            "max_width": null,
            "min_height": null,
            "min_width": null,
            "object_fit": null,
            "object_position": null,
            "order": null,
            "overflow": null,
            "overflow_x": null,
            "overflow_y": null,
            "padding": null,
            "right": null,
            "top": null,
            "visibility": null,
            "width": null
          }
        },
        "e776b89e507449c3afe41acf3923763d": {
          "model_module": "@jupyter-widgets/controls",
          "model_name": "DescriptionStyleModel",
          "model_module_version": "1.5.0",
          "state": {
            "_model_module": "@jupyter-widgets/controls",
            "_model_module_version": "1.5.0",
            "_model_name": "DescriptionStyleModel",
            "_view_count": null,
            "_view_module": "@jupyter-widgets/base",
            "_view_module_version": "1.2.0",
            "_view_name": "StyleView",
            "description_width": ""
          }
        },
        "1cfdfef1649c4673a63d59a7de59c720": {
          "model_module": "@jupyter-widgets/controls",
          "model_name": "HBoxModel",
          "model_module_version": "1.5.0",
          "state": {
            "_dom_classes": [],
            "_model_module": "@jupyter-widgets/controls",
            "_model_module_version": "1.5.0",
            "_model_name": "HBoxModel",
            "_view_count": null,
            "_view_module": "@jupyter-widgets/controls",
            "_view_module_version": "1.5.0",
            "_view_name": "HBoxView",
            "box_style": "",
            "children": [
              "IPY_MODEL_ee924562949b4f1391115a42782960c1",
              "IPY_MODEL_a927dc6621cb4fd18c5e1f53ff0a1a81",
              "IPY_MODEL_797489a791df47f495a8a7e994f22d8a"
            ],
            "layout": "IPY_MODEL_1865358c079d43b5b43208f2bc2d6a10"
          }
        },
        "ee924562949b4f1391115a42782960c1": {
          "model_module": "@jupyter-widgets/controls",
          "model_name": "HTMLModel",
          "model_module_version": "1.5.0",
          "state": {
            "_dom_classes": [],
            "_model_module": "@jupyter-widgets/controls",
            "_model_module_version": "1.5.0",
            "_model_name": "HTMLModel",
            "_view_count": null,
            "_view_module": "@jupyter-widgets/controls",
            "_view_module_version": "1.5.0",
            "_view_name": "HTMLView",
            "description": "",
            "description_tooltip": null,
            "layout": "IPY_MODEL_9809b51cf54142bebf89c15c2270a65c",
            "placeholder": "​",
            "style": "IPY_MODEL_407e62ad3c1842ff8ebd4fdd3d1625cc",
            "value": "100%"
          }
        },
        "a927dc6621cb4fd18c5e1f53ff0a1a81": {
          "model_module": "@jupyter-widgets/controls",
          "model_name": "FloatProgressModel",
          "model_module_version": "1.5.0",
          "state": {
            "_dom_classes": [],
            "_model_module": "@jupyter-widgets/controls",
            "_model_module_version": "1.5.0",
            "_model_name": "FloatProgressModel",
            "_view_count": null,
            "_view_module": "@jupyter-widgets/controls",
            "_view_module_version": "1.5.0",
            "_view_name": "ProgressView",
            "bar_style": "success",
            "description": "",
            "description_tooltip": null,
            "layout": "IPY_MODEL_75a6fddd65444435b8e9df70f7893ddd",
            "max": 10,
            "min": 0,
            "orientation": "horizontal",
            "style": "IPY_MODEL_43d2242b9b0a4c8cabf959368587fc06",
            "value": 10
          }
        },
        "797489a791df47f495a8a7e994f22d8a": {
          "model_module": "@jupyter-widgets/controls",
          "model_name": "HTMLModel",
          "model_module_version": "1.5.0",
          "state": {
            "_dom_classes": [],
            "_model_module": "@jupyter-widgets/controls",
            "_model_module_version": "1.5.0",
            "_model_name": "HTMLModel",
            "_view_count": null,
            "_view_module": "@jupyter-widgets/controls",
            "_view_module_version": "1.5.0",
            "_view_name": "HTMLView",
            "description": "",
            "description_tooltip": null,
            "layout": "IPY_MODEL_a233159441f34aba9a81e0d08dda518a",
            "placeholder": "​",
            "style": "IPY_MODEL_0dcc702990ae45a28029c92d71ec2b2a",
            "value": " 10/10 [08:14&lt;00:00, 48.98s/it]"
          }
        },
        "1865358c079d43b5b43208f2bc2d6a10": {
          "model_module": "@jupyter-widgets/base",
          "model_name": "LayoutModel",
          "model_module_version": "1.2.0",
          "state": {
            "_model_module": "@jupyter-widgets/base",
            "_model_module_version": "1.2.0",
            "_model_name": "LayoutModel",
            "_view_count": null,
            "_view_module": "@jupyter-widgets/base",
            "_view_module_version": "1.2.0",
            "_view_name": "LayoutView",
            "align_content": null,
            "align_items": null,
            "align_self": null,
            "border": null,
            "bottom": null,
            "display": null,
            "flex": null,
            "flex_flow": null,
            "grid_area": null,
            "grid_auto_columns": null,
            "grid_auto_flow": null,
            "grid_auto_rows": null,
            "grid_column": null,
            "grid_gap": null,
            "grid_row": null,
            "grid_template_areas": null,
            "grid_template_columns": null,
            "grid_template_rows": null,
            "height": null,
            "justify_content": null,
            "justify_items": null,
            "left": null,
            "margin": null,
            "max_height": null,
            "max_width": null,
            "min_height": null,
            "min_width": null,
            "object_fit": null,
            "object_position": null,
            "order": null,
            "overflow": null,
            "overflow_x": null,
            "overflow_y": null,
            "padding": null,
            "right": null,
            "top": null,
            "visibility": null,
            "width": null
          }
        },
        "9809b51cf54142bebf89c15c2270a65c": {
          "model_module": "@jupyter-widgets/base",
          "model_name": "LayoutModel",
          "model_module_version": "1.2.0",
          "state": {
            "_model_module": "@jupyter-widgets/base",
            "_model_module_version": "1.2.0",
            "_model_name": "LayoutModel",
            "_view_count": null,
            "_view_module": "@jupyter-widgets/base",
            "_view_module_version": "1.2.0",
            "_view_name": "LayoutView",
            "align_content": null,
            "align_items": null,
            "align_self": null,
            "border": null,
            "bottom": null,
            "display": null,
            "flex": null,
            "flex_flow": null,
            "grid_area": null,
            "grid_auto_columns": null,
            "grid_auto_flow": null,
            "grid_auto_rows": null,
            "grid_column": null,
            "grid_gap": null,
            "grid_row": null,
            "grid_template_areas": null,
            "grid_template_columns": null,
            "grid_template_rows": null,
            "height": null,
            "justify_content": null,
            "justify_items": null,
            "left": null,
            "margin": null,
            "max_height": null,
            "max_width": null,
            "min_height": null,
            "min_width": null,
            "object_fit": null,
            "object_position": null,
            "order": null,
            "overflow": null,
            "overflow_x": null,
            "overflow_y": null,
            "padding": null,
            "right": null,
            "top": null,
            "visibility": null,
            "width": null
          }
        },
        "407e62ad3c1842ff8ebd4fdd3d1625cc": {
          "model_module": "@jupyter-widgets/controls",
          "model_name": "DescriptionStyleModel",
          "model_module_version": "1.5.0",
          "state": {
            "_model_module": "@jupyter-widgets/controls",
            "_model_module_version": "1.5.0",
            "_model_name": "DescriptionStyleModel",
            "_view_count": null,
            "_view_module": "@jupyter-widgets/base",
            "_view_module_version": "1.2.0",
            "_view_name": "StyleView",
            "description_width": ""
          }
        },
        "75a6fddd65444435b8e9df70f7893ddd": {
          "model_module": "@jupyter-widgets/base",
          "model_name": "LayoutModel",
          "model_module_version": "1.2.0",
          "state": {
            "_model_module": "@jupyter-widgets/base",
            "_model_module_version": "1.2.0",
            "_model_name": "LayoutModel",
            "_view_count": null,
            "_view_module": "@jupyter-widgets/base",
            "_view_module_version": "1.2.0",
            "_view_name": "LayoutView",
            "align_content": null,
            "align_items": null,
            "align_self": null,
            "border": null,
            "bottom": null,
            "display": null,
            "flex": null,
            "flex_flow": null,
            "grid_area": null,
            "grid_auto_columns": null,
            "grid_auto_flow": null,
            "grid_auto_rows": null,
            "grid_column": null,
            "grid_gap": null,
            "grid_row": null,
            "grid_template_areas": null,
            "grid_template_columns": null,
            "grid_template_rows": null,
            "height": null,
            "justify_content": null,
            "justify_items": null,
            "left": null,
            "margin": null,
            "max_height": null,
            "max_width": null,
            "min_height": null,
            "min_width": null,
            "object_fit": null,
            "object_position": null,
            "order": null,
            "overflow": null,
            "overflow_x": null,
            "overflow_y": null,
            "padding": null,
            "right": null,
            "top": null,
            "visibility": null,
            "width": null
          }
        },
        "43d2242b9b0a4c8cabf959368587fc06": {
          "model_module": "@jupyter-widgets/controls",
          "model_name": "ProgressStyleModel",
          "model_module_version": "1.5.0",
          "state": {
            "_model_module": "@jupyter-widgets/controls",
            "_model_module_version": "1.5.0",
            "_model_name": "ProgressStyleModel",
            "_view_count": null,
            "_view_module": "@jupyter-widgets/base",
            "_view_module_version": "1.2.0",
            "_view_name": "StyleView",
            "bar_color": null,
            "description_width": ""
          }
        },
        "a233159441f34aba9a81e0d08dda518a": {
          "model_module": "@jupyter-widgets/base",
          "model_name": "LayoutModel",
          "model_module_version": "1.2.0",
          "state": {
            "_model_module": "@jupyter-widgets/base",
            "_model_module_version": "1.2.0",
            "_model_name": "LayoutModel",
            "_view_count": null,
            "_view_module": "@jupyter-widgets/base",
            "_view_module_version": "1.2.0",
            "_view_name": "LayoutView",
            "align_content": null,
            "align_items": null,
            "align_self": null,
            "border": null,
            "bottom": null,
            "display": null,
            "flex": null,
            "flex_flow": null,
            "grid_area": null,
            "grid_auto_columns": null,
            "grid_auto_flow": null,
            "grid_auto_rows": null,
            "grid_column": null,
            "grid_gap": null,
            "grid_row": null,
            "grid_template_areas": null,
            "grid_template_columns": null,
            "grid_template_rows": null,
            "height": null,
            "justify_content": null,
            "justify_items": null,
            "left": null,
            "margin": null,
            "max_height": null,
            "max_width": null,
            "min_height": null,
            "min_width": null,
            "object_fit": null,
            "object_position": null,
            "order": null,
            "overflow": null,
            "overflow_x": null,
            "overflow_y": null,
            "padding": null,
            "right": null,
            "top": null,
            "visibility": null,
            "width": null
          }
        },
        "0dcc702990ae45a28029c92d71ec2b2a": {
          "model_module": "@jupyter-widgets/controls",
          "model_name": "DescriptionStyleModel",
          "model_module_version": "1.5.0",
          "state": {
            "_model_module": "@jupyter-widgets/controls",
            "_model_module_version": "1.5.0",
            "_model_name": "DescriptionStyleModel",
            "_view_count": null,
            "_view_module": "@jupyter-widgets/base",
            "_view_module_version": "1.2.0",
            "_view_name": "StyleView",
            "description_width": ""
          }
        },
        "f470f2b618e94e238e1d8bbb272cbef2": {
          "model_module": "@jupyter-widgets/controls",
          "model_name": "HBoxModel",
          "model_module_version": "1.5.0",
          "state": {
            "_dom_classes": [],
            "_model_module": "@jupyter-widgets/controls",
            "_model_module_version": "1.5.0",
            "_model_name": "HBoxModel",
            "_view_count": null,
            "_view_module": "@jupyter-widgets/controls",
            "_view_module_version": "1.5.0",
            "_view_name": "HBoxView",
            "box_style": "",
            "children": [
              "IPY_MODEL_871a305fce644963940cc5f5d649093d",
              "IPY_MODEL_180622098916498390414e3f98e9fcb6",
              "IPY_MODEL_e36110450f0f4d2fa9d557b2f01c5b51"
            ],
            "layout": "IPY_MODEL_18d9979add0e488f8ff3d94ec97a62b1"
          }
        },
        "871a305fce644963940cc5f5d649093d": {
          "model_module": "@jupyter-widgets/controls",
          "model_name": "HTMLModel",
          "model_module_version": "1.5.0",
          "state": {
            "_dom_classes": [],
            "_model_module": "@jupyter-widgets/controls",
            "_model_module_version": "1.5.0",
            "_model_name": "HTMLModel",
            "_view_count": null,
            "_view_module": "@jupyter-widgets/controls",
            "_view_module_version": "1.5.0",
            "_view_name": "HTMLView",
            "description": "",
            "description_tooltip": null,
            "layout": "IPY_MODEL_e9282b7b5026437097062a92bd6c6e41",
            "placeholder": "​",
            "style": "IPY_MODEL_a9e8f68e9afd422ba1110f4f2ecb0117",
            "value": "100%"
          }
        },
        "180622098916498390414e3f98e9fcb6": {
          "model_module": "@jupyter-widgets/controls",
          "model_name": "FloatProgressModel",
          "model_module_version": "1.5.0",
          "state": {
            "_dom_classes": [],
            "_model_module": "@jupyter-widgets/controls",
            "_model_module_version": "1.5.0",
            "_model_name": "FloatProgressModel",
            "_view_count": null,
            "_view_module": "@jupyter-widgets/controls",
            "_view_module_version": "1.5.0",
            "_view_name": "ProgressView",
            "bar_style": "success",
            "description": "",
            "description_tooltip": null,
            "layout": "IPY_MODEL_f0a860d2fdfb4e169a620dbe1b77c727",
            "max": 10,
            "min": 0,
            "orientation": "horizontal",
            "style": "IPY_MODEL_9578a13908734d7d98074ea3b9750d22",
            "value": 10
          }
        },
        "e36110450f0f4d2fa9d557b2f01c5b51": {
          "model_module": "@jupyter-widgets/controls",
          "model_name": "HTMLModel",
          "model_module_version": "1.5.0",
          "state": {
            "_dom_classes": [],
            "_model_module": "@jupyter-widgets/controls",
            "_model_module_version": "1.5.0",
            "_model_name": "HTMLModel",
            "_view_count": null,
            "_view_module": "@jupyter-widgets/controls",
            "_view_module_version": "1.5.0",
            "_view_name": "HTMLView",
            "description": "",
            "description_tooltip": null,
            "layout": "IPY_MODEL_7d40054d5f594c2a875c54083c7e1bc8",
            "placeholder": "​",
            "style": "IPY_MODEL_4b0d4e2435b94f3a9eb032c8fc7a5d69",
            "value": " 10/10 [07:57&lt;00:00, 47.45s/it]"
          }
        },
        "18d9979add0e488f8ff3d94ec97a62b1": {
          "model_module": "@jupyter-widgets/base",
          "model_name": "LayoutModel",
          "model_module_version": "1.2.0",
          "state": {
            "_model_module": "@jupyter-widgets/base",
            "_model_module_version": "1.2.0",
            "_model_name": "LayoutModel",
            "_view_count": null,
            "_view_module": "@jupyter-widgets/base",
            "_view_module_version": "1.2.0",
            "_view_name": "LayoutView",
            "align_content": null,
            "align_items": null,
            "align_self": null,
            "border": null,
            "bottom": null,
            "display": null,
            "flex": null,
            "flex_flow": null,
            "grid_area": null,
            "grid_auto_columns": null,
            "grid_auto_flow": null,
            "grid_auto_rows": null,
            "grid_column": null,
            "grid_gap": null,
            "grid_row": null,
            "grid_template_areas": null,
            "grid_template_columns": null,
            "grid_template_rows": null,
            "height": null,
            "justify_content": null,
            "justify_items": null,
            "left": null,
            "margin": null,
            "max_height": null,
            "max_width": null,
            "min_height": null,
            "min_width": null,
            "object_fit": null,
            "object_position": null,
            "order": null,
            "overflow": null,
            "overflow_x": null,
            "overflow_y": null,
            "padding": null,
            "right": null,
            "top": null,
            "visibility": null,
            "width": null
          }
        },
        "e9282b7b5026437097062a92bd6c6e41": {
          "model_module": "@jupyter-widgets/base",
          "model_name": "LayoutModel",
          "model_module_version": "1.2.0",
          "state": {
            "_model_module": "@jupyter-widgets/base",
            "_model_module_version": "1.2.0",
            "_model_name": "LayoutModel",
            "_view_count": null,
            "_view_module": "@jupyter-widgets/base",
            "_view_module_version": "1.2.0",
            "_view_name": "LayoutView",
            "align_content": null,
            "align_items": null,
            "align_self": null,
            "border": null,
            "bottom": null,
            "display": null,
            "flex": null,
            "flex_flow": null,
            "grid_area": null,
            "grid_auto_columns": null,
            "grid_auto_flow": null,
            "grid_auto_rows": null,
            "grid_column": null,
            "grid_gap": null,
            "grid_row": null,
            "grid_template_areas": null,
            "grid_template_columns": null,
            "grid_template_rows": null,
            "height": null,
            "justify_content": null,
            "justify_items": null,
            "left": null,
            "margin": null,
            "max_height": null,
            "max_width": null,
            "min_height": null,
            "min_width": null,
            "object_fit": null,
            "object_position": null,
            "order": null,
            "overflow": null,
            "overflow_x": null,
            "overflow_y": null,
            "padding": null,
            "right": null,
            "top": null,
            "visibility": null,
            "width": null
          }
        },
        "a9e8f68e9afd422ba1110f4f2ecb0117": {
          "model_module": "@jupyter-widgets/controls",
          "model_name": "DescriptionStyleModel",
          "model_module_version": "1.5.0",
          "state": {
            "_model_module": "@jupyter-widgets/controls",
            "_model_module_version": "1.5.0",
            "_model_name": "DescriptionStyleModel",
            "_view_count": null,
            "_view_module": "@jupyter-widgets/base",
            "_view_module_version": "1.2.0",
            "_view_name": "StyleView",
            "description_width": ""
          }
        },
        "f0a860d2fdfb4e169a620dbe1b77c727": {
          "model_module": "@jupyter-widgets/base",
          "model_name": "LayoutModel",
          "model_module_version": "1.2.0",
          "state": {
            "_model_module": "@jupyter-widgets/base",
            "_model_module_version": "1.2.0",
            "_model_name": "LayoutModel",
            "_view_count": null,
            "_view_module": "@jupyter-widgets/base",
            "_view_module_version": "1.2.0",
            "_view_name": "LayoutView",
            "align_content": null,
            "align_items": null,
            "align_self": null,
            "border": null,
            "bottom": null,
            "display": null,
            "flex": null,
            "flex_flow": null,
            "grid_area": null,
            "grid_auto_columns": null,
            "grid_auto_flow": null,
            "grid_auto_rows": null,
            "grid_column": null,
            "grid_gap": null,
            "grid_row": null,
            "grid_template_areas": null,
            "grid_template_columns": null,
            "grid_template_rows": null,
            "height": null,
            "justify_content": null,
            "justify_items": null,
            "left": null,
            "margin": null,
            "max_height": null,
            "max_width": null,
            "min_height": null,
            "min_width": null,
            "object_fit": null,
            "object_position": null,
            "order": null,
            "overflow": null,
            "overflow_x": null,
            "overflow_y": null,
            "padding": null,
            "right": null,
            "top": null,
            "visibility": null,
            "width": null
          }
        },
        "9578a13908734d7d98074ea3b9750d22": {
          "model_module": "@jupyter-widgets/controls",
          "model_name": "ProgressStyleModel",
          "model_module_version": "1.5.0",
          "state": {
            "_model_module": "@jupyter-widgets/controls",
            "_model_module_version": "1.5.0",
            "_model_name": "ProgressStyleModel",
            "_view_count": null,
            "_view_module": "@jupyter-widgets/base",
            "_view_module_version": "1.2.0",
            "_view_name": "StyleView",
            "bar_color": null,
            "description_width": ""
          }
        },
        "7d40054d5f594c2a875c54083c7e1bc8": {
          "model_module": "@jupyter-widgets/base",
          "model_name": "LayoutModel",
          "model_module_version": "1.2.0",
          "state": {
            "_model_module": "@jupyter-widgets/base",
            "_model_module_version": "1.2.0",
            "_model_name": "LayoutModel",
            "_view_count": null,
            "_view_module": "@jupyter-widgets/base",
            "_view_module_version": "1.2.0",
            "_view_name": "LayoutView",
            "align_content": null,
            "align_items": null,
            "align_self": null,
            "border": null,
            "bottom": null,
            "display": null,
            "flex": null,
            "flex_flow": null,
            "grid_area": null,
            "grid_auto_columns": null,
            "grid_auto_flow": null,
            "grid_auto_rows": null,
            "grid_column": null,
            "grid_gap": null,
            "grid_row": null,
            "grid_template_areas": null,
            "grid_template_columns": null,
            "grid_template_rows": null,
            "height": null,
            "justify_content": null,
            "justify_items": null,
            "left": null,
            "margin": null,
            "max_height": null,
            "max_width": null,
            "min_height": null,
            "min_width": null,
            "object_fit": null,
            "object_position": null,
            "order": null,
            "overflow": null,
            "overflow_x": null,
            "overflow_y": null,
            "padding": null,
            "right": null,
            "top": null,
            "visibility": null,
            "width": null
          }
        },
        "4b0d4e2435b94f3a9eb032c8fc7a5d69": {
          "model_module": "@jupyter-widgets/controls",
          "model_name": "DescriptionStyleModel",
          "model_module_version": "1.5.0",
          "state": {
            "_model_module": "@jupyter-widgets/controls",
            "_model_module_version": "1.5.0",
            "_model_name": "DescriptionStyleModel",
            "_view_count": null,
            "_view_module": "@jupyter-widgets/base",
            "_view_module_version": "1.2.0",
            "_view_name": "StyleView",
            "description_width": ""
          }
        }
      }
    }
  },
  "cells": [
    {
      "cell_type": "markdown",
      "source": [
        "# 介紹\n",
        "此專案使用PyTorch提供的FashionMNIST(服裝配件圖)資料集，透過CNN進行預測與分類"
      ],
      "metadata": {
        "id": "pAoLFvh_R3-C"
      }
    },
    {
      "cell_type": "markdown",
      "source": [
        "## 安裝、導入套件"
      ],
      "metadata": {
        "id": "ThRMKccXO4NH"
      }
    },
    {
      "cell_type": "code",
      "execution_count": 34,
      "metadata": {
        "id": "Ph3WUcePOxPl"
      },
      "outputs": [],
      "source": [
        "from torchvision import datasets\n",
        "from torchvision.transforms import ToTensor\n",
        "import torchvision.transforms as transforms\n",
        "import matplotlib.pyplot as plt\n",
        "import random\n",
        "from torch.utils.data import DataLoader\n",
        "import torch\n",
        "import torchvision\n",
        "from torch import nn\n",
        "import tqdm"
      ]
    },
    {
      "cell_type": "markdown",
      "source": [
        "## 引入資料集"
      ],
      "metadata": {
        "id": "WCe1WLPHdWJQ"
      }
    },
    {
      "cell_type": "code",
      "source": [
        "# 訓練集\n",
        "train_data = datasets.FashionMNIST(  # FashionMNIST用於加載Fashion-MNIST數據集，包含10個不同類別的28x28像素灰階服裝配件圖。\n",
        "    root=\"image\",  # 儲存路徑，若此路徑沒有數據集，則download會下載到此路徑\n",
        "    train=True,  # 下載訓練數據集，False則為測試數據集\n",
        "    download=True,  # 如果數據集沒有在指定的root路徑中，就下載到路徑。若路徑中沒資料，又download=False不下載就會報錯。\n",
        "    transform=ToTensor()  # 轉換成Tensor格式\n",
        ")\n",
        "\n",
        "# 測試集(同上，只有train那邊一樣)\n",
        "test_data = datasets.FashionMNIST(\n",
        "    root=\"image\",\n",
        "    train=False,  # 下載測試集\n",
        "    download=True,\n",
        "    transform=ToTensor()\n",
        ")\n",
        "\n",
        "# 看看資料結構\n",
        "train_data[0]  # 灰階圖應該介於0-255，但資料集已特徵縮放"
      ],
      "metadata": {
        "id": "VFiDffE5dhSy",
        "colab": {
          "base_uri": "https://localhost:8080/"
        },
        "outputId": "d777b9ab-9f87-4062-84fc-fe4555a8e655"
      },
      "execution_count": 35,
      "outputs": [
        {
          "output_type": "execute_result",
          "data": {
            "text/plain": [
              "(tensor([[[0.0000, 0.0000, 0.0000, 0.0000, 0.0000, 0.0000, 0.0000, 0.0000,\n",
              "           0.0000, 0.0000, 0.0000, 0.0000, 0.0000, 0.0000, 0.0000, 0.0000,\n",
              "           0.0000, 0.0000, 0.0000, 0.0000, 0.0000, 0.0000, 0.0000, 0.0000,\n",
              "           0.0000, 0.0000, 0.0000, 0.0000],\n",
              "          [0.0000, 0.0000, 0.0000, 0.0000, 0.0000, 0.0000, 0.0000, 0.0000,\n",
              "           0.0000, 0.0000, 0.0000, 0.0000, 0.0000, 0.0000, 0.0000, 0.0000,\n",
              "           0.0000, 0.0000, 0.0000, 0.0000, 0.0000, 0.0000, 0.0000, 0.0000,\n",
              "           0.0000, 0.0000, 0.0000, 0.0000],\n",
              "          [0.0000, 0.0000, 0.0000, 0.0000, 0.0000, 0.0000, 0.0000, 0.0000,\n",
              "           0.0000, 0.0000, 0.0000, 0.0000, 0.0000, 0.0000, 0.0000, 0.0000,\n",
              "           0.0000, 0.0000, 0.0000, 0.0000, 0.0000, 0.0000, 0.0000, 0.0000,\n",
              "           0.0000, 0.0000, 0.0000, 0.0000],\n",
              "          [0.0000, 0.0000, 0.0000, 0.0000, 0.0000, 0.0000, 0.0000, 0.0000,\n",
              "           0.0000, 0.0000, 0.0000, 0.0000, 0.0039, 0.0000, 0.0000, 0.0510,\n",
              "           0.2863, 0.0000, 0.0000, 0.0039, 0.0157, 0.0000, 0.0000, 0.0000,\n",
              "           0.0000, 0.0039, 0.0039, 0.0000],\n",
              "          [0.0000, 0.0000, 0.0000, 0.0000, 0.0000, 0.0000, 0.0000, 0.0000,\n",
              "           0.0000, 0.0000, 0.0000, 0.0000, 0.0118, 0.0000, 0.1412, 0.5333,\n",
              "           0.4980, 0.2431, 0.2118, 0.0000, 0.0000, 0.0000, 0.0039, 0.0118,\n",
              "           0.0157, 0.0000, 0.0000, 0.0118],\n",
              "          [0.0000, 0.0000, 0.0000, 0.0000, 0.0000, 0.0000, 0.0000, 0.0000,\n",
              "           0.0000, 0.0000, 0.0000, 0.0000, 0.0235, 0.0000, 0.4000, 0.8000,\n",
              "           0.6902, 0.5255, 0.5647, 0.4824, 0.0902, 0.0000, 0.0000, 0.0000,\n",
              "           0.0000, 0.0471, 0.0392, 0.0000],\n",
              "          [0.0000, 0.0000, 0.0000, 0.0000, 0.0000, 0.0000, 0.0000, 0.0000,\n",
              "           0.0000, 0.0000, 0.0000, 0.0000, 0.0000, 0.0000, 0.6078, 0.9255,\n",
              "           0.8118, 0.6980, 0.4196, 0.6118, 0.6314, 0.4275, 0.2510, 0.0902,\n",
              "           0.3020, 0.5098, 0.2824, 0.0588],\n",
              "          [0.0000, 0.0000, 0.0000, 0.0000, 0.0000, 0.0000, 0.0000, 0.0000,\n",
              "           0.0000, 0.0000, 0.0000, 0.0039, 0.0000, 0.2706, 0.8118, 0.8745,\n",
              "           0.8549, 0.8471, 0.8471, 0.6392, 0.4980, 0.4745, 0.4784, 0.5725,\n",
              "           0.5529, 0.3451, 0.6745, 0.2588],\n",
              "          [0.0000, 0.0000, 0.0000, 0.0000, 0.0000, 0.0000, 0.0000, 0.0000,\n",
              "           0.0000, 0.0039, 0.0039, 0.0039, 0.0000, 0.7843, 0.9098, 0.9098,\n",
              "           0.9137, 0.8980, 0.8745, 0.8745, 0.8431, 0.8353, 0.6431, 0.4980,\n",
              "           0.4824, 0.7686, 0.8980, 0.0000],\n",
              "          [0.0000, 0.0000, 0.0000, 0.0000, 0.0000, 0.0000, 0.0000, 0.0000,\n",
              "           0.0000, 0.0000, 0.0000, 0.0000, 0.0000, 0.7176, 0.8824, 0.8471,\n",
              "           0.8745, 0.8941, 0.9216, 0.8902, 0.8784, 0.8706, 0.8784, 0.8667,\n",
              "           0.8745, 0.9608, 0.6784, 0.0000],\n",
              "          [0.0000, 0.0000, 0.0000, 0.0000, 0.0000, 0.0000, 0.0000, 0.0000,\n",
              "           0.0000, 0.0000, 0.0000, 0.0000, 0.0000, 0.7569, 0.8941, 0.8549,\n",
              "           0.8353, 0.7765, 0.7059, 0.8314, 0.8235, 0.8275, 0.8353, 0.8745,\n",
              "           0.8627, 0.9529, 0.7922, 0.0000],\n",
              "          [0.0000, 0.0000, 0.0000, 0.0000, 0.0000, 0.0000, 0.0000, 0.0000,\n",
              "           0.0000, 0.0039, 0.0118, 0.0000, 0.0471, 0.8588, 0.8627, 0.8314,\n",
              "           0.8549, 0.7529, 0.6627, 0.8902, 0.8157, 0.8549, 0.8784, 0.8314,\n",
              "           0.8863, 0.7725, 0.8196, 0.2039],\n",
              "          [0.0000, 0.0000, 0.0000, 0.0000, 0.0000, 0.0000, 0.0000, 0.0000,\n",
              "           0.0000, 0.0000, 0.0235, 0.0000, 0.3882, 0.9569, 0.8706, 0.8627,\n",
              "           0.8549, 0.7961, 0.7765, 0.8667, 0.8431, 0.8353, 0.8706, 0.8627,\n",
              "           0.9608, 0.4667, 0.6549, 0.2196],\n",
              "          [0.0000, 0.0000, 0.0000, 0.0000, 0.0000, 0.0000, 0.0000, 0.0000,\n",
              "           0.0000, 0.0157, 0.0000, 0.0000, 0.2157, 0.9255, 0.8941, 0.9020,\n",
              "           0.8941, 0.9412, 0.9098, 0.8353, 0.8549, 0.8745, 0.9176, 0.8510,\n",
              "           0.8510, 0.8196, 0.3608, 0.0000],\n",
              "          [0.0000, 0.0000, 0.0039, 0.0157, 0.0235, 0.0275, 0.0078, 0.0000,\n",
              "           0.0000, 0.0000, 0.0000, 0.0000, 0.9294, 0.8863, 0.8510, 0.8745,\n",
              "           0.8706, 0.8588, 0.8706, 0.8667, 0.8471, 0.8745, 0.8980, 0.8431,\n",
              "           0.8549, 1.0000, 0.3020, 0.0000],\n",
              "          [0.0000, 0.0118, 0.0000, 0.0000, 0.0000, 0.0000, 0.0000, 0.0000,\n",
              "           0.0000, 0.2431, 0.5686, 0.8000, 0.8941, 0.8118, 0.8353, 0.8667,\n",
              "           0.8549, 0.8157, 0.8275, 0.8549, 0.8784, 0.8745, 0.8588, 0.8431,\n",
              "           0.8784, 0.9569, 0.6235, 0.0000],\n",
              "          [0.0000, 0.0000, 0.0000, 0.0000, 0.0706, 0.1725, 0.3216, 0.4196,\n",
              "           0.7412, 0.8941, 0.8627, 0.8706, 0.8510, 0.8863, 0.7843, 0.8039,\n",
              "           0.8275, 0.9020, 0.8784, 0.9176, 0.6902, 0.7373, 0.9804, 0.9725,\n",
              "           0.9137, 0.9333, 0.8431, 0.0000],\n",
              "          [0.0000, 0.2235, 0.7333, 0.8157, 0.8784, 0.8667, 0.8784, 0.8157,\n",
              "           0.8000, 0.8392, 0.8157, 0.8196, 0.7843, 0.6235, 0.9608, 0.7569,\n",
              "           0.8078, 0.8745, 1.0000, 1.0000, 0.8667, 0.9176, 0.8667, 0.8275,\n",
              "           0.8627, 0.9098, 0.9647, 0.0000],\n",
              "          [0.0118, 0.7922, 0.8941, 0.8784, 0.8667, 0.8275, 0.8275, 0.8392,\n",
              "           0.8039, 0.8039, 0.8039, 0.8627, 0.9412, 0.3137, 0.5882, 1.0000,\n",
              "           0.8980, 0.8667, 0.7373, 0.6039, 0.7490, 0.8235, 0.8000, 0.8196,\n",
              "           0.8706, 0.8941, 0.8824, 0.0000],\n",
              "          [0.3843, 0.9137, 0.7765, 0.8235, 0.8706, 0.8980, 0.8980, 0.9176,\n",
              "           0.9765, 0.8627, 0.7608, 0.8431, 0.8510, 0.9451, 0.2549, 0.2863,\n",
              "           0.4157, 0.4588, 0.6588, 0.8588, 0.8667, 0.8431, 0.8510, 0.8745,\n",
              "           0.8745, 0.8784, 0.8980, 0.1137],\n",
              "          [0.2941, 0.8000, 0.8314, 0.8000, 0.7569, 0.8039, 0.8275, 0.8824,\n",
              "           0.8471, 0.7255, 0.7725, 0.8078, 0.7765, 0.8353, 0.9412, 0.7647,\n",
              "           0.8902, 0.9608, 0.9373, 0.8745, 0.8549, 0.8314, 0.8196, 0.8706,\n",
              "           0.8627, 0.8667, 0.9020, 0.2627],\n",
              "          [0.1882, 0.7961, 0.7176, 0.7608, 0.8353, 0.7725, 0.7255, 0.7451,\n",
              "           0.7608, 0.7529, 0.7922, 0.8392, 0.8588, 0.8667, 0.8627, 0.9255,\n",
              "           0.8824, 0.8471, 0.7804, 0.8078, 0.7294, 0.7098, 0.6941, 0.6745,\n",
              "           0.7098, 0.8039, 0.8078, 0.4510],\n",
              "          [0.0000, 0.4784, 0.8588, 0.7569, 0.7020, 0.6706, 0.7176, 0.7686,\n",
              "           0.8000, 0.8235, 0.8353, 0.8118, 0.8275, 0.8235, 0.7843, 0.7686,\n",
              "           0.7608, 0.7490, 0.7647, 0.7490, 0.7765, 0.7529, 0.6902, 0.6118,\n",
              "           0.6549, 0.6941, 0.8235, 0.3608],\n",
              "          [0.0000, 0.0000, 0.2902, 0.7412, 0.8314, 0.7490, 0.6863, 0.6745,\n",
              "           0.6863, 0.7098, 0.7255, 0.7373, 0.7412, 0.7373, 0.7569, 0.7765,\n",
              "           0.8000, 0.8196, 0.8235, 0.8235, 0.8275, 0.7373, 0.7373, 0.7608,\n",
              "           0.7529, 0.8471, 0.6667, 0.0000],\n",
              "          [0.0078, 0.0000, 0.0000, 0.0000, 0.2588, 0.7843, 0.8706, 0.9294,\n",
              "           0.9373, 0.9490, 0.9647, 0.9529, 0.9569, 0.8667, 0.8627, 0.7569,\n",
              "           0.7490, 0.7020, 0.7137, 0.7137, 0.7098, 0.6902, 0.6510, 0.6588,\n",
              "           0.3882, 0.2275, 0.0000, 0.0000],\n",
              "          [0.0000, 0.0000, 0.0000, 0.0000, 0.0000, 0.0000, 0.0000, 0.1569,\n",
              "           0.2392, 0.1725, 0.2824, 0.1608, 0.1373, 0.0000, 0.0000, 0.0000,\n",
              "           0.0000, 0.0000, 0.0000, 0.0000, 0.0000, 0.0000, 0.0000, 0.0000,\n",
              "           0.0000, 0.0000, 0.0000, 0.0000],\n",
              "          [0.0000, 0.0000, 0.0000, 0.0000, 0.0000, 0.0000, 0.0000, 0.0000,\n",
              "           0.0000, 0.0000, 0.0000, 0.0000, 0.0000, 0.0000, 0.0000, 0.0000,\n",
              "           0.0000, 0.0000, 0.0000, 0.0000, 0.0000, 0.0000, 0.0000, 0.0000,\n",
              "           0.0000, 0.0000, 0.0000, 0.0000],\n",
              "          [0.0000, 0.0000, 0.0000, 0.0000, 0.0000, 0.0000, 0.0000, 0.0000,\n",
              "           0.0000, 0.0000, 0.0000, 0.0000, 0.0000, 0.0000, 0.0000, 0.0000,\n",
              "           0.0000, 0.0000, 0.0000, 0.0000, 0.0000, 0.0000, 0.0000, 0.0000,\n",
              "           0.0000, 0.0000, 0.0000, 0.0000]]]),\n",
              " 9)"
            ]
          },
          "metadata": {},
          "execution_count": 35
        }
      ]
    },
    {
      "cell_type": "code",
      "source": [
        "# 看看資料全部類別\n",
        "train_data.classes"
      ],
      "metadata": {
        "colab": {
          "base_uri": "https://localhost:8080/"
        },
        "id": "aQqr9RHVjxaI",
        "outputId": "13de50a7-17e3-4a42-f585-017c1511b3e5"
      },
      "execution_count": 36,
      "outputs": [
        {
          "output_type": "execute_result",
          "data": {
            "text/plain": [
              "['T-shirt/top',\n",
              " 'Trouser',\n",
              " 'Pullover',\n",
              " 'Dress',\n",
              " 'Coat',\n",
              " 'Sandal',\n",
              " 'Shirt',\n",
              " 'Sneaker',\n",
              " 'Bag',\n",
              " 'Ankle boot']"
            ]
          },
          "metadata": {},
          "execution_count": 36
        }
      ]
    },
    {
      "cell_type": "code",
      "source": [
        "# 取一筆資料出來看看\n",
        "img, label = train_data[0]  # 圖片、標籤\n",
        "\n",
        "# 獲取並顯示標籤對應的類別名稱\n",
        "class_name = train_data.classes\n",
        "print(class_name[label])  # Ankle boot\n",
        "\n",
        "# 顯示調整前與調整後的圖像形狀\n",
        "print(img.shape)  # 灰階，高度，寬度:(1,28,28)\n",
        "print(img.permute(1, 2, 0).shape)  # 將通道(channel)移至最後一位\n",
        "\n",
        "# 畫原始數據的圖像\n",
        "plt.imshow(img.permute(1, 2, 0), cmap=\"gray\")\n",
        "plt.title(class_name[label])\n",
        "plt.show()"
      ],
      "metadata": {
        "colab": {
          "base_uri": "https://localhost:8080/",
          "height": 504
        },
        "id": "FOlKLveqjVKN",
        "outputId": "f71eb3b6-409d-4651-fcbb-bd6dd8c41459"
      },
      "execution_count": 37,
      "outputs": [
        {
          "output_type": "stream",
          "name": "stdout",
          "text": [
            "Ankle boot\n",
            "torch.Size([1, 28, 28])\n",
            "torch.Size([28, 28, 1])\n"
          ]
        },
        {
          "output_type": "display_data",
          "data": {
            "text/plain": [
              "<Figure size 640x480 with 1 Axes>"
            ],
            "image/png": "[encoded data removed]"
          },
          "metadata": {}
        }
      ]
    },
    {
      "cell_type": "code",
      "source": [
        "# 再隨機抓一個出來看看\n",
        "random_idx = random.randint(0, len(train_data)-1)\n",
        "img, label = train_data[random_idx]\n",
        "\n",
        "# 畫原始資料的圖\n",
        "plt.imshow(img.permute(1,2,0))\n",
        "plt.title(class_name[label])"
      ],
      "metadata": {
        "colab": {
          "base_uri": "https://localhost:8080/",
          "height": 469
        },
        "id": "uTnyLcX4o9EE",
        "outputId": "4cdb8edf-6c31-4364-d143-9d39ab9025ca"
      },
      "execution_count": 38,
      "outputs": [
        {
          "output_type": "execute_result",
          "data": {
            "text/plain": [
              "Text(0.5, 1.0, 'Sneaker')"
            ]
          },
          "metadata": {},
          "execution_count": 38
        },
        {
          "output_type": "display_data",
          "data": {
            "text/plain": [
              "<Figure size 640x480 with 1 Axes>"
            ],
            "image/png": "[encoded data removed]"
          },
          "metadata": {}
        }
      ]
    },
    {
      "cell_type": "markdown",
      "source": [
        "批量batch size"
      ],
      "metadata": {
        "id": "Gj4nskCKsri-"
      }
    },
    {
      "cell_type": "code",
      "source": [
        "# 先確認總筆數\n",
        "len(train_data), len(test_data) # 訓練資料筆數, 測試資料筆數"
      ],
      "metadata": {
        "colab": {
          "base_uri": "https://localhost:8080/"
        },
        "id": "WY3umrIhqefD",
        "outputId": "306fe2e1-c22b-4ca9-9a30-5abf0482c54c"
      },
      "execution_count": 39,
      "outputs": [
        {
          "output_type": "execute_result",
          "data": {
            "text/plain": [
              "(60000, 10000)"
            ]
          },
          "metadata": {},
          "execution_count": 39
        }
      ]
    },
    {
      "cell_type": "code",
      "source": [
        "BATCH_SIZE = 32 # 可選32、64、128、256\n",
        "# 資料分成一堆一堆(batch)\n",
        "train_dataloader = DataLoader(\n",
        "    train_data,  # 來自train_data資料集\n",
        "    batch_size=BATCH_SIZE,  # 32個一堆\n",
        "    shuffle=True  # 打亂訓練資料\n",
        ")\n",
        "test_dataloader = DataLoader(\n",
        "    test_data,  # test_data\n",
        "    batch_size=BATCH_SIZE,  # 32個一堆\n",
        "    shuffle=False  # 不須訓練所以不須打亂\n",
        "    )"
      ],
      "metadata": {
        "id": "-ozDHlybqeY7"
      },
      "execution_count": 40,
      "outputs": []
    },
    {
      "cell_type": "code",
      "source": [
        "# 看看有幾批次(組)\n",
        "len(train_dataloader), len(test_dataloader)"
      ],
      "metadata": {
        "colab": {
          "base_uri": "https://localhost:8080/"
        },
        "id": "jwkwmWcKsJLy",
        "outputId": "d8642606-1f19-4add-9f08-7e8d7d6f0fe6"
      },
      "execution_count": 41,
      "outputs": [
        {
          "output_type": "execute_result",
          "data": {
            "text/plain": [
              "(1875, 313)"
            ]
          },
          "metadata": {},
          "execution_count": 41
        }
      ]
    },
    {
      "cell_type": "code",
      "source": [
        "# x：feature(圖片), y：label\n",
        "x_first_batch, y_first_batch = next(iter(train_dataloader))  # 獲取train_dataloader轉成迭代器後的第一批次數據\n",
        "x_first_batch.shape, y_first_batch.shape  # 看看第一批數據的特徵與標籤形狀"
      ],
      "metadata": {
        "colab": {
          "base_uri": "https://localhost:8080/"
        },
        "id": "BU3-LBb--FHH",
        "outputId": "df298955-ca94-46b9-a357-da4ee6afe279"
      },
      "execution_count": 42,
      "outputs": [
        {
          "output_type": "execute_result",
          "data": {
            "text/plain": [
              "(torch.Size([32, 1, 28, 28]), torch.Size([32]))"
            ]
          },
          "metadata": {},
          "execution_count": 42
        }
      ]
    },
    {
      "cell_type": "code",
      "source": [
        "# 取一筆來看看\n",
        "x_first_batch[0], y_first_batch[0]"
      ],
      "metadata": {
        "id": "SQkYef0T-240",
        "colab": {
          "base_uri": "https://localhost:8080/"
        },
        "outputId": "b974f30f-986b-4a8c-b69d-44bd1dd3afa6"
      },
      "execution_count": 43,
      "outputs": [
        {
          "output_type": "execute_result",
          "data": {
            "text/plain": [
              "(tensor([[[0.0000, 0.0000, 0.0000, 0.0000, 0.0000, 0.0000, 0.0000, 0.0000,\n",
              "           0.0000, 0.0039, 0.0039, 0.0000, 0.0000, 0.0000, 0.0000, 0.0000,\n",
              "           0.0000, 0.0000, 0.0000, 0.0000, 0.0000, 0.0000, 0.4588, 0.2667,\n",
              "           0.0000, 0.0157, 0.0000, 0.0000],\n",
              "          [0.0000, 0.0000, 0.0000, 0.0000, 0.0000, 0.0000, 0.0000, 0.0000,\n",
              "           0.0000, 0.0000, 0.0000, 0.0000, 0.0000, 0.2039, 0.2510, 0.3922,\n",
              "           0.5059, 0.5608, 0.5882, 0.5725, 0.5608, 0.3569, 0.4784, 0.2392,\n",
              "           0.0000, 0.0196, 0.0000, 0.0000],\n",
              "          [0.0000, 0.0000, 0.0000, 0.0000, 0.0000, 0.0000, 0.0000, 0.0000,\n",
              "           0.0000, 0.0000, 0.0157, 0.0000, 0.2588, 0.6039, 0.6000, 0.6431,\n",
              "           0.6627, 0.6667, 0.7255, 0.7647, 0.7647, 0.7647, 0.7569, 0.2275,\n",
              "           0.0000, 0.0157, 0.0000, 0.0000],\n",
              "          [0.0000, 0.0000, 0.0000, 0.0000, 0.0000, 0.0000, 0.0000, 0.0000,\n",
              "           0.0000, 0.0000, 0.0196, 0.0000, 0.2627, 0.5882, 0.5725, 0.6235,\n",
              "           0.6588, 0.6667, 0.7059, 0.7294, 0.7294, 0.7020, 0.7569, 0.2745,\n",
              "           0.0000, 0.0196, 0.0000, 0.0000],\n",
              "          [0.0000, 0.0000, 0.0000, 0.0000, 0.0000, 0.0000, 0.0000, 0.0000,\n",
              "           0.0000, 0.0000, 0.0196, 0.0000, 0.3490, 0.6275, 0.6039, 0.6078,\n",
              "           0.6824, 0.7098, 0.7137, 0.7333, 0.7373, 0.6941, 0.7529, 0.2745,\n",
              "           0.0000, 0.0039, 0.0000, 0.0000],\n",
              "          [0.0000, 0.0000, 0.0000, 0.0000, 0.0000, 0.0000, 0.0000, 0.0000,\n",
              "           0.0000, 0.0000, 0.0157, 0.0000, 0.3882, 0.6275, 0.6078, 0.6431,\n",
              "           0.6667, 0.6863, 0.6941, 0.7020, 0.7137, 0.6588, 0.6784, 0.2431,\n",
              "           0.0000, 0.0078, 0.0000, 0.0000],\n",
              "          [0.0000, 0.0000, 0.0000, 0.0000, 0.0000, 0.0000, 0.0000, 0.0000,\n",
              "           0.0000, 0.0000, 0.0157, 0.0000, 0.4314, 0.6196, 0.5647, 0.6235,\n",
              "           0.6706, 0.6863, 0.7098, 0.7216, 0.6941, 0.6471, 0.6627, 0.2627,\n",
              "           0.0000, 0.0039, 0.0000, 0.0000],\n",
              "          [0.0000, 0.0000, 0.0000, 0.0000, 0.0000, 0.0000, 0.0000, 0.0000,\n",
              "           0.0000, 0.0000, 0.0039, 0.0000, 0.5020, 0.5882, 0.5647, 0.6627,\n",
              "           0.6824, 0.6706, 0.6549, 0.6627, 0.6824, 0.6824, 0.7176, 0.3333,\n",
              "           0.0000, 0.0039, 0.0000, 0.0000],\n",
              "          [0.0000, 0.0000, 0.0000, 0.0000, 0.0000, 0.0000, 0.0000, 0.0000,\n",
              "           0.0000, 0.0000, 0.0000, 0.0000, 0.5098, 0.5686, 0.6235, 0.6588,\n",
              "           0.6549, 0.7020, 0.7373, 0.7098, 0.6784, 0.6941, 0.6941, 0.6196,\n",
              "           0.0000, 0.0000, 0.0000, 0.0000],\n",
              "          [0.0000, 0.0000, 0.0000, 0.0000, 0.0000, 0.0000, 0.0000, 0.0000,\n",
              "           0.0000, 0.0039, 0.0000, 0.0000, 0.5647, 0.6235, 0.6314, 0.6431,\n",
              "           0.6824, 0.7137, 0.7373, 0.6824, 0.7098, 0.7608, 0.7098, 0.7137,\n",
              "           0.1608, 0.0000, 0.0000, 0.0000],\n",
              "          [0.0000, 0.0000, 0.0000, 0.0000, 0.0000, 0.0000, 0.0000, 0.0000,\n",
              "           0.0000, 0.0078, 0.0000, 0.0235, 0.6431, 0.6353, 0.6706, 0.6588,\n",
              "           0.7216, 0.7098, 0.7059, 0.7333, 0.8196, 0.8196, 0.7098, 0.7294,\n",
              "           0.6314, 0.0000, 0.0000, 0.0000],\n",
              "          [0.0000, 0.0000, 0.0000, 0.0000, 0.0000, 0.0000, 0.0000, 0.0000,\n",
              "           0.0000, 0.0118, 0.0000, 0.1451, 0.6863, 0.5922, 0.6941, 0.6902,\n",
              "           0.7255, 0.7216, 0.7255, 0.7373, 0.7176, 0.7216, 0.7294, 0.6902,\n",
              "           0.8314, 0.0745, 0.0000, 0.0000],\n",
              "          [0.0000, 0.0000, 0.0000, 0.0000, 0.0000, 0.0000, 0.0000, 0.0000,\n",
              "           0.0000, 0.0157, 0.0000, 0.2706, 0.6157, 0.6078, 0.6824, 0.7020,\n",
              "           0.7294, 0.7373, 0.7725, 0.7843, 0.6588, 0.7098, 0.6863, 0.6667,\n",
              "           0.7216, 0.3451, 0.0000, 0.0000],\n",
              "          [0.0000, 0.0000, 0.0000, 0.0000, 0.0000, 0.0000, 0.0000, 0.0000,\n",
              "           0.0000, 0.0000, 0.0000, 0.4824, 0.5608, 0.6196, 0.6863, 0.7294,\n",
              "           0.7647, 0.7882, 0.7490, 0.6784, 0.6353, 0.6510, 0.6431, 0.7059,\n",
              "           0.7608, 0.4392, 0.0000, 0.0000],\n",
              "          [0.0000, 0.0000, 0.0000, 0.0000, 0.0000, 0.0000, 0.0000, 0.0000,\n",
              "           0.0078, 0.0000, 0.0314, 0.6627, 0.6157, 0.6510, 0.6824, 0.7294,\n",
              "           0.7725, 0.7216, 0.6353, 0.6667, 0.6667, 0.6431, 0.6941, 0.6824,\n",
              "           0.7059, 0.4510, 0.0000, 0.0000],\n",
              "          [0.0000, 0.0000, 0.0000, 0.0000, 0.0000, 0.0000, 0.0000, 0.0000,\n",
              "           0.0157, 0.0000, 0.2353, 0.6196, 0.6275, 0.6902, 0.7020, 0.7255,\n",
              "           0.7137, 0.6549, 0.6549, 0.7098, 0.6314, 0.6627, 0.6902, 0.6431,\n",
              "           0.7804, 0.4314, 0.0000, 0.0000],\n",
              "          [0.0000, 0.0000, 0.0000, 0.0000, 0.0000, 0.0000, 0.0000, 0.0000,\n",
              "           0.0039, 0.0000, 0.4157, 0.6157, 0.6471, 0.6784, 0.6745, 0.6824,\n",
              "           0.7020, 0.6588, 0.6667, 0.6588, 0.6784, 0.7020, 0.7020, 0.7216,\n",
              "           0.8314, 0.3686, 0.0000, 0.0000],\n",
              "          [0.0000, 0.0000, 0.0000, 0.0000, 0.0000, 0.0000, 0.0000, 0.0157,\n",
              "           0.0000, 0.0588, 0.5922, 0.6000, 0.6627, 0.6745, 0.6745, 0.6706,\n",
              "           0.6784, 0.7216, 0.7098, 0.7490, 0.8824, 0.8118, 0.7216, 0.7059,\n",
              "           0.8235, 0.3333, 0.0000, 0.0000],\n",
              "          [0.0000, 0.0000, 0.0000, 0.0000, 0.0078, 0.0118, 0.0196, 0.0000,\n",
              "           0.0000, 0.4275, 0.5725, 0.6353, 0.6941, 0.6627, 0.6549, 0.6784,\n",
              "           0.7255, 0.6902, 0.7725, 1.0000, 0.1843, 0.3804, 0.7686, 0.7020,\n",
              "           0.8000, 0.2863, 0.0000, 0.0000],\n",
              "          [0.0000, 0.0000, 0.0078, 0.0000, 0.0000, 0.0000, 0.0000, 0.0000,\n",
              "           0.2392, 0.6353, 0.5137, 0.5843, 0.7020, 0.6784, 0.6745, 0.6706,\n",
              "           0.7020, 0.8078, 0.8627, 0.0000, 0.0000, 0.5059, 0.7490, 0.6941,\n",
              "           0.8118, 0.2588, 0.0000, 0.0000],\n",
              "          [0.0000, 0.0000, 0.0000, 0.0000, 0.0353, 0.0863, 0.1843, 0.3843,\n",
              "           0.6000, 0.5176, 0.5882, 0.5922, 0.6039, 0.6627, 0.6824, 0.6941,\n",
              "           0.8078, 0.7765, 0.0000, 0.0000, 0.0000, 0.4784, 0.7490, 0.6902,\n",
              "           0.8196, 0.2157, 0.0000, 0.0000],\n",
              "          [0.0000, 0.0000, 0.0745, 0.4588, 0.5882, 0.6706, 0.7412, 0.6078,\n",
              "           0.5765, 0.5529, 0.6235, 0.6471, 0.6039, 0.6314, 0.6824, 0.7804,\n",
              "           0.8078, 0.0000, 0.0000, 0.0039, 0.0000, 0.4706, 0.7608, 0.6824,\n",
              "           0.7176, 0.2039, 0.0000, 0.0000],\n",
              "          [0.0000, 0.0000, 0.2706, 0.5529, 0.5216, 0.5451, 0.5569, 0.5059,\n",
              "           0.5804, 0.5686, 0.6157, 0.6392, 0.6431, 0.5804, 0.6863, 0.7922,\n",
              "           0.0000, 0.0000, 0.0039, 0.0000, 0.0000, 0.4706, 0.7451, 0.6706,\n",
              "           0.7176, 0.1882, 0.0000, 0.0000],\n",
              "          [0.0000, 0.0000, 0.4039, 0.6902, 0.6667, 0.6431, 0.6000, 0.5490,\n",
              "           0.5373, 0.5412, 0.5569, 0.5843, 0.6039, 0.6235, 0.8275, 0.3216,\n",
              "           0.0000, 0.0000, 0.0000, 0.0000, 0.0000, 0.4745, 0.7176, 0.6627,\n",
              "           0.7059, 0.1804, 0.0000, 0.0000],\n",
              "          [0.0000, 0.0000, 0.2941, 0.7373, 0.6941, 0.7216, 0.7294, 0.7686,\n",
              "           0.7294, 0.6824, 0.7137, 0.7294, 0.6902, 0.7804, 0.6235, 0.0000,\n",
              "           0.0000, 0.0000, 0.0000, 0.0000, 0.0000, 0.4588, 0.7333, 0.6706,\n",
              "           0.6902, 0.1647, 0.0000, 0.0000],\n",
              "          [0.0000, 0.0000, 0.2863, 0.7922, 0.8157, 0.7725, 0.7451, 0.7216,\n",
              "           0.7255, 0.7373, 0.7569, 0.7490, 0.7490, 0.7333, 0.0000, 0.0000,\n",
              "           0.0039, 0.0000, 0.0000, 0.0118, 0.0000, 0.4235, 0.7294, 0.6588,\n",
              "           0.6863, 0.1412, 0.0000, 0.0000],\n",
              "          [0.0000, 0.0000, 0.0000, 0.0706, 0.5137, 0.7098, 0.8314, 0.8510,\n",
              "           0.8431, 0.8196, 0.7804, 0.8000, 0.8588, 0.2157, 0.0000, 0.0118,\n",
              "           0.0039, 0.0000, 0.0000, 0.0118, 0.0000, 0.5451, 0.7804, 0.7294,\n",
              "           0.7569, 0.2000, 0.0000, 0.0000],\n",
              "          [0.0000, 0.0000, 0.0000, 0.0000, 0.0000, 0.0000, 0.0196, 0.2863,\n",
              "           0.4353, 0.6235, 0.7216, 0.7176, 0.2863, 0.0000, 0.0000, 0.0000,\n",
              "           0.0000, 0.0000, 0.0000, 0.0118, 0.0000, 0.2549, 0.6157, 0.5804,\n",
              "           0.6784, 0.0706, 0.0000, 0.0000]]]),\n",
              " tensor(9))"
            ]
          },
          "metadata": {},
          "execution_count": 43
        }
      ]
    },
    {
      "cell_type": "code",
      "source": [
        "# 隨機取樣\n",
        "random_idx = random.randint(0, len(x_first_batch)-1)\n",
        "img, label = x_first_batch[random_idx], y_first_batch[random_idx]\n",
        "# 畫原始資料的圖\n",
        "plt.imshow(img.permute(1,2,0))\n",
        "plt.title(class_name[label])"
      ],
      "metadata": {
        "colab": {
          "base_uri": "https://localhost:8080/",
          "height": 469
        },
        "id": "m-xn6SLg_KkT",
        "outputId": "8be39ce0-ed4b-49c1-9349-c3a15265e538"
      },
      "execution_count": 44,
      "outputs": [
        {
          "output_type": "execute_result",
          "data": {
            "text/plain": [
              "Text(0.5, 1.0, 'Dress')"
            ]
          },
          "metadata": {},
          "execution_count": 44
        },
        {
          "output_type": "display_data",
          "data": {
            "text/plain": [
              "<Figure size 640x480 with 1 Axes>"
            ],
            "image/png": "[encoded data removed]"
          },
          "metadata": {}
        }
      ]
    },
    {
      "cell_type": "markdown",
      "source": [
        "Flatten"
      ],
      "metadata": {
        "id": "I1GwLczGAw8v"
      }
    },
    {
      "cell_type": "code",
      "source": [
        "# 確認形狀以便之後攤平\n",
        "x_first_batch[0].shape"
      ],
      "metadata": {
        "colab": {
          "base_uri": "https://localhost:8080/"
        },
        "id": "Vne_bZabAC30",
        "outputId": "d21ebff5-ad97-4550-d82e-c06555084c17"
      },
      "execution_count": 45,
      "outputs": [
        {
          "output_type": "execute_result",
          "data": {
            "text/plain": [
              "torch.Size([1, 28, 28])"
            ]
          },
          "metadata": {},
          "execution_count": 45
        }
      ]
    },
    {
      "cell_type": "code",
      "source": [
        "# 攤平，二維轉一維：28*28=784\n",
        "f = nn.Flatten()\n",
        "f(x_first_batch[0]).shape"
      ],
      "metadata": {
        "colab": {
          "base_uri": "https://localhost:8080/"
        },
        "id": "0NRZzacGBBKO",
        "outputId": "c3e16552-5e87-4088-be1a-0113844eec1d"
      },
      "execution_count": 46,
      "outputs": [
        {
          "output_type": "execute_result",
          "data": {
            "text/plain": [
              "torch.Size([1, 784])"
            ]
          },
          "metadata": {},
          "execution_count": 46
        }
      ]
    },
    {
      "cell_type": "markdown",
      "source": [
        "## 建模"
      ],
      "metadata": {
        "id": "HrgE3GYOkfy1"
      }
    },
    {
      "cell_type": "code",
      "source": [
        "class ImageClassificationModel(nn.Module):\n",
        "  def __init__(self, input_shape, output_shape):\n",
        "    super().__init__()\n",
        "    self.layer_stack = nn.Sequential(\n",
        "      nn.Flatten(start_dim=1, end_dim=-1),  # 輸入張量攤平，從第一個維度到最後一個維度\n",
        "      nn.Linear(in_features=input_shape, out_features=output_shape),  # 根據攤平特徵輸入計算出輸出\n",
        "      nn.Softmax(dim=1)  # 將輸出轉換成機率分布\n",
        "    )\n",
        "  def forward(self, x):\n",
        "    return self.layer_stack(x)  # 定義前向傳播"
      ],
      "metadata": {
        "id": "e9IPBtUpC-Ew"
      },
      "execution_count": 47,
      "outputs": []
    },
    {
      "cell_type": "code",
      "source": [
        "# 再前進到下一批次\n",
        "x_first_batch, y_first_batch = next(iter(train_dataloader))\n",
        "x_first_batch.shape, y_first_batch.shape"
      ],
      "metadata": {
        "colab": {
          "base_uri": "https://localhost:8080/"
        },
        "id": "1wZolClZF0QZ",
        "outputId": "45e65f52-8d47-492f-f38d-dd419d392b8f"
      },
      "execution_count": 48,
      "outputs": [
        {
          "output_type": "execute_result",
          "data": {
            "text/plain": [
              "(torch.Size([32, 1, 28, 28]), torch.Size([32]))"
            ]
          },
          "metadata": {},
          "execution_count": 48
        }
      ]
    },
    {
      "cell_type": "code",
      "source": [
        "torch.manual_seed(1) # 固定隨機\n",
        "model = ImageClassificationModel(28*28, 10)\n",
        "y_pred = model(x_first_batch)\n",
        "y_pred.argmax(dim=1) # 回傳最大機率的預測類別"
      ],
      "metadata": {
        "colab": {
          "base_uri": "https://localhost:8080/"
        },
        "id": "slUXwh3HGY1M",
        "outputId": "a6590225-268f-4477-c555-311508dd3029"
      },
      "execution_count": 49,
      "outputs": [
        {
          "output_type": "execute_result",
          "data": {
            "text/plain": [
              "tensor([6, 6, 6, 6, 1, 6, 0, 6, 0, 1, 6, 6, 6, 6, 6, 6, 6, 6, 6, 6, 6, 1, 6, 6,\n",
              "        6, 6, 6, 6, 7, 6, 6, 1])"
            ]
          },
          "metadata": {},
          "execution_count": 49
        }
      ]
    },
    {
      "cell_type": "markdown",
      "source": [
        "Loss Function、優化、loss與accuracy"
      ],
      "metadata": {
        "id": "OuBsvA6PKTCB"
      }
    },
    {
      "cell_type": "code",
      "source": [
        "# 定義損失函數\n",
        "loss_fn = nn.CrossEntropyLoss() # CrossEntropyLoss會幫我們softmax\n",
        "\n",
        "# 前向傳遞和計算損失\n",
        "y_pred = model(x_first_batch)\n",
        "loss = loss_fn(y_pred, y_first_batch)\n",
        "print(loss, model.state_dict())\n",
        "\n",
        "# 定義優化器\n",
        "optimizer = torch.optim.SGD(params=model.parameters(), lr=0.01)\n",
        "optimizer.zero_grad()\n",
        "\n",
        "# 梯度歸零及反向傳遞\n",
        "loss.backward()\n",
        "optimizer.step()\n",
        "\n",
        "#參數更新\n",
        "y_pred = model(x_first_batch)\n",
        "loss = loss_fn(y_pred, y_first_batch)\n",
        "print(loss, model.state_dict())"
      ],
      "metadata": {
        "colab": {
          "base_uri": "https://localhost:8080/"
        },
        "id": "PDJQiUlLG6xy",
        "outputId": "ca7ce360-3297-4ea4-9215-0bab1389748c"
      },
      "execution_count": 50,
      "outputs": [
        {
          "output_type": "stream",
          "name": "stdout",
          "text": [
            "tensor(2.2974, grad_fn=<NllLossBackward0>) OrderedDict([('layer_stack.1.weight', tensor([[ 0.0184, -0.0158, -0.0069,  ...,  0.0068, -0.0041,  0.0025],\n",
            "        [-0.0274, -0.0224, -0.0309,  ..., -0.0029,  0.0013, -0.0167],\n",
            "        [ 0.0282, -0.0095, -0.0340,  ..., -0.0141,  0.0056, -0.0335],\n",
            "        ...,\n",
            "        [-0.0355,  0.0131,  0.0193,  ..., -0.0324,  0.0316,  0.0120],\n",
            "        [ 0.0178,  0.0196,  0.0114,  ...,  0.0253, -0.0041,  0.0252],\n",
            "        [ 0.0303, -0.0011, -0.0183,  ...,  0.0069,  0.0037, -0.0249]])), ('layer_stack.1.bias', tensor([ 0.0306,  0.0015,  0.0277,  0.0178, -0.0313,  0.0318,  0.0006,  0.0085,\n",
            "        -0.0246,  0.0139]))])\n",
            "tensor(2.2962, grad_fn=<NllLossBackward0>) OrderedDict([('layer_stack.1.weight', tensor([[ 0.0184, -0.0158, -0.0069,  ...,  0.0068, -0.0041,  0.0025],\n",
            "        [-0.0274, -0.0224, -0.0309,  ..., -0.0029,  0.0013, -0.0167],\n",
            "        [ 0.0282, -0.0095, -0.0340,  ..., -0.0141,  0.0056, -0.0335],\n",
            "        ...,\n",
            "        [-0.0355,  0.0131,  0.0193,  ..., -0.0324,  0.0316,  0.0120],\n",
            "        [ 0.0178,  0.0196,  0.0114,  ...,  0.0253, -0.0041,  0.0252],\n",
            "        [ 0.0303, -0.0011, -0.0183,  ...,  0.0069,  0.0037, -0.0249]])), ('layer_stack.1.bias', tensor([ 0.0307,  0.0014,  0.0277,  0.0178, -0.0313,  0.0317,  0.0007,  0.0085,\n",
            "        -0.0245,  0.0139]))])\n"
          ]
        }
      ]
    },
    {
      "cell_type": "markdown",
      "source": [
        "計算準確率"
      ],
      "metadata": {
        "id": "aIWQBMAhrw9J"
      }
    },
    {
      "cell_type": "code",
      "source": [
        "def accuracy_fn(y_pred, y_true):\n",
        " correct_num = (y_pred==y_true).sum() #算預測跟實際加總值\n",
        " acc = correct_num / len(y_true) * 100\n",
        " return acc"
      ],
      "metadata": {
        "id": "Rw_t-2Ytrvzf"
      },
      "execution_count": 51,
      "outputs": []
    },
    {
      "cell_type": "markdown",
      "source": [
        "訓練、測試"
      ],
      "metadata": {
        "id": "MmF0DJU6POBN"
      }
    },
    {
      "cell_type": "code",
      "source": [
        "# 設定優先使用GPU跑，不行則用cpu\n",
        "device = \"cuda\" if torch.cuda.is_available() else \"cpu\"\n",
        "model.to(device)"
      ],
      "metadata": {
        "colab": {
          "base_uri": "https://localhost:8080/"
        },
        "id": "G_CwBYoEOjHg",
        "outputId": "3e4dd411-da04-461c-d881-2e15f466720e"
      },
      "execution_count": 52,
      "outputs": [
        {
          "output_type": "execute_result",
          "data": {
            "text/plain": [
              "ImageClassificationModel(\n",
              "  (layer_stack): Sequential(\n",
              "    (0): Flatten(start_dim=1, end_dim=-1)\n",
              "    (1): Linear(in_features=784, out_features=10, bias=True)\n",
              "    (2): Softmax(dim=1)\n",
              "  )\n",
              ")"
            ]
          },
          "metadata": {},
          "execution_count": 52
        }
      ]
    },
    {
      "cell_type": "code",
      "source": [
        "# 訓練函數\n",
        "def train_step(dataloader, model, loss_fn, optimizer, accuracy_fn, device):\n",
        "  # 初始化損失和準確度\n",
        "  train_loss = 0\n",
        "  train_acc = 0\n",
        "\n",
        "  for batch, (x,y) in enumerate(dataloader):  # 透過enumerate(dataloader)可知道現在在第幾個batch\n",
        "    # 將資料轉移到訓練的裝置\n",
        "    x = x.to(device)\n",
        "    y = y.to(device)\n",
        "\n",
        "    # 把模型設置為訓練模式並進行預測\n",
        "    model.train()\n",
        "    y_pred = model(x)\n",
        "\n",
        "    # 計算損失和準確度\n",
        "    loss = loss_fn(y_pred, y) # 算每一batch的loss\n",
        "    train_loss += loss\n",
        "    train_acc += accuracy_fn(y_pred.argmax(dim=1), y)\n",
        "\n",
        "    # 優化器梯度歸零、倒傳遞及參數更新\n",
        "    optimizer.zero_grad()\n",
        "    loss.backward()\n",
        "    optimizer.step()\n",
        "\n",
        "\n",
        "  # 計算平均損失和準確度\n",
        "  train_loss /= len(train_dataloader) # train_loss = train_loss/len(train_dataloader)\n",
        "  train_acc /= len(train_dataloader)\n",
        "\n",
        "  print(f\"\\nTrain loss:{train_loss:.4f}, Train Acc: {train_acc:.2f}\")"
      ],
      "metadata": {
        "id": "a4PjtL-7PX6B"
      },
      "execution_count": 53,
      "outputs": []
    },
    {
      "cell_type": "code",
      "source": [
        "# 測試函數\n",
        "def test_step(dataloader, model, loss_fn, accuracy_fn, device):\n",
        "\n",
        "  # 初始化損失和準確度\n",
        "  test_loss = 0\n",
        "  test_acc = 0\n",
        "\n",
        "  # 進入測試階段(像是dropout和batch normalization在訓練時會啟用，在測試時就會關閉)\n",
        "  model.eval()\n",
        "\n",
        "  # 開始測試\n",
        "  with torch.inference_mode():\n",
        "      for x,y in dataloader:  # 遍歷每個x.y\n",
        "        x = x.to(device)  # 將資料轉移到訓練的裝置\n",
        "        y = y.to(device)\n",
        "\n",
        "        test_pred = model(x)  # 把x丟到模型內進行預測\n",
        "        test_loss += loss_fn(test_pred, y)\n",
        "        test_acc += accuracy_fn(test_pred.argmax(dim=1), y)\n",
        "\n",
        "      # 計算平均損失和準確度\n",
        "      test_loss /= len(test_dataloader)\n",
        "      test_acc /= len(test_dataloader)\n",
        "      print(f\"\\nTest loss:{test_loss:.4f}, Test Acc: {test_acc:.2f}\")"
      ],
      "metadata": {
        "id": "ri68GV4kVFQG"
      },
      "execution_count": 54,
      "outputs": []
    },
    {
      "cell_type": "code",
      "source": [
        "epochs = 10  # 迭代10次\n",
        "for epoch in range(epochs):\n",
        "  print(f\"Epoch: {epoch}\\n-------\")  # 打印當前迭代輪數\n",
        "\n",
        "  # 代入上面定義的訓練與測試函數\n",
        "  train_step(train_dataloader, model, loss_fn, optimizer, accuracy_fn, device)\n",
        "  test_step(test_dataloader, model, loss_fn, accuracy_fn, device)"
      ],
      "metadata": {
        "colab": {
          "base_uri": "https://localhost:8080/"
        },
        "id": "hEUgwCSuYHJe",
        "outputId": "f342c40e-e6e2-47cb-c719-272dfa60c7bc"
      },
      "execution_count": 55,
      "outputs": [
        {
          "output_type": "stream",
          "name": "stdout",
          "text": [
            "Epoch: 0\n",
            "-------\n",
            "\n",
            "Train loss:2.0338, Train Acc: 50.28\n",
            "\n",
            "Test loss:1.9397, Test Acc: 55.33\n",
            "Epoch: 1\n",
            "-------\n",
            "\n",
            "Train loss:1.9253, Train Acc: 55.72\n",
            "\n",
            "Test loss:1.9160, Test Acc: 55.78\n",
            "Epoch: 2\n",
            "-------\n",
            "\n",
            "Train loss:1.8697, Train Acc: 62.83\n",
            "\n",
            "Test loss:1.8410, Test Acc: 67.27\n",
            "Epoch: 3\n",
            "-------\n",
            "\n",
            "Train loss:1.8232, Train Acc: 68.91\n",
            "\n",
            "Test loss:1.8147, Test Acc: 69.29\n",
            "Epoch: 4\n",
            "-------\n",
            "\n",
            "Train loss:1.8037, Train Acc: 70.05\n",
            "\n",
            "Test loss:1.8004, Test Acc: 70.12\n",
            "Epoch: 5\n",
            "-------\n",
            "\n",
            "Train loss:1.7921, Train Acc: 70.69\n",
            "\n",
            "Test loss:1.7911, Test Acc: 70.63\n",
            "Epoch: 6\n",
            "-------\n",
            "\n",
            "Train loss:1.7841, Train Acc: 71.13\n",
            "\n",
            "Test loss:1.7843, Test Acc: 70.91\n",
            "Epoch: 7\n",
            "-------\n",
            "\n",
            "Train loss:1.7782, Train Acc: 71.42\n",
            "\n",
            "Test loss:1.7792, Test Acc: 71.30\n",
            "Epoch: 8\n",
            "-------\n",
            "\n",
            "Train loss:1.7735, Train Acc: 71.67\n",
            "\n",
            "Test loss:1.7748, Test Acc: 71.52\n",
            "Epoch: 9\n",
            "-------\n",
            "\n",
            "Train loss:1.7696, Train Acc: 71.86\n",
            "\n",
            "Test loss:1.7713, Test Acc: 71.62\n"
          ]
        }
      ]
    },
    {
      "cell_type": "markdown",
      "source": [
        "##第一次模型調整"
      ],
      "metadata": {
        "id": "t3WyIxUjbGiH"
      }
    },
    {
      "cell_type": "code",
      "source": [
        "class ImageClassificationModel2(nn.Module):\n",
        "  def __init__(self, input_shape, output_shape):\n",
        "    super().__init__()\n",
        "    self.layer_stack = nn.Sequential(\n",
        "      nn.Flatten(start_dim=1, end_dim=-1),\n",
        "      nn.Linear(in_features=input_shape, out_features=5),  # 比起原模型，這裡變成5個輸出特徵\n",
        "\n",
        "      # 下面比原模型新增了兩個激活層與全鏈接層，且激活函數改用ReLU\n",
        "      nn.ReLU(),\n",
        "      nn.Linear(in_features=5, out_features=8),\n",
        "      nn.ReLU(),\n",
        "      nn.Linear(in_features=8, out_features=output_shape)\n",
        "\n",
        "    )\n",
        "\n",
        "  def forward(self, x):\n",
        "    return self.layer_stack(x)"
      ],
      "metadata": {
        "id": "0VicT2e9azrh"
      },
      "execution_count": 56,
      "outputs": []
    },
    {
      "cell_type": "code",
      "source": [
        "model_2 = ImageClassificationModel2(28*28, 10)  # 設定輸入和輸出特徵數量\n",
        "model_2.to(device)  # 將模型移轉裝置\n",
        "loss_fn = nn.CrossEntropyLoss()  # 定義函數：CrossEntropy\n",
        "optimizer = torch.optim.SGD(model_2.parameters(), lr = 0.01)  # 定義優化器與學習率"
      ],
      "metadata": {
        "id": "1Du-qhZDa4bX"
      },
      "execution_count": 57,
      "outputs": []
    },
    {
      "cell_type": "code",
      "source": [
        "from tqdm.auto import tqdm\n",
        "# 訓練與測試\n",
        "epochs = 10\n",
        "\n",
        "for epoch in tqdm(range(epochs)):\n",
        "  print(f\"Epoch: {epoch}\\n-------\")\n",
        "  train_step(train_dataloader, model_2, loss_fn, optimizer, accuracy_fn, device)\n",
        "  test_step(test_dataloader, model_2, loss_fn, accuracy_fn, device)"
      ],
      "metadata": {
        "colab": {
          "base_uri": "https://localhost:8080/",
          "height": 1000,
          "referenced_widgets": [
            "b28eda078ea14e5c9b2855bbf99bf876",
            "616a3ffd4f6c4969b26176bc73a8814c",
            "ee24ea0009dc41f5b8ac3aa19f8685bc",
            "3752ddf896da497d90f2abdda80702b4",
            "835b1bd0de354a44b215ce87310b1b71",
            "0724ba28695d42c389f429f7f8cc42b0",
            "bcf71b88b73d4ad4b1b2b6da809874b1",
            "c3d3ae9a82ab470195a1565c42969bea",
            "d807f995277b4b80b46023db1a50f910",
            "ce8dbe0c887f4412951c36706b5310ab",
            "e776b89e507449c3afe41acf3923763d"
          ]
        },
        "id": "_QzDxr_qlaHm",
        "outputId": "e0c73983-eba0-479f-9811-680fc28a32f3"
      },
      "execution_count": 58,
      "outputs": [
        {
          "output_type": "display_data",
          "data": {
            "text/plain": [
              "  0%|          | 0/10 [00:00<?, ?it/s]"
            ],
            "application/vnd.jupyter.widget-view+json": {
              "version_major": 2,
              "version_minor": 0,
              "model_id": "b28eda078ea14e5c9b2855bbf99bf876"
            }
          },
          "metadata": {}
        },
        {
          "output_type": "stream",
          "name": "stdout",
          "text": [
            "Epoch: 0\n",
            "-------\n",
            "\n",
            "Train loss:1.2688, Train Acc: 53.28\n",
            "\n",
            "Test loss:0.7779, Test Acc: 69.78\n",
            "Epoch: 1\n",
            "-------\n",
            "\n",
            "Train loss:0.6790, Train Acc: 74.30\n",
            "\n",
            "Test loss:0.6290, Test Acc: 76.84\n",
            "Epoch: 2\n",
            "-------\n",
            "\n",
            "Train loss:0.5938, Train Acc: 78.48\n",
            "\n",
            "Test loss:0.6253, Test Acc: 77.18\n",
            "Epoch: 3\n",
            "-------\n",
            "\n",
            "Train loss:0.5584, Train Acc: 80.00\n",
            "\n",
            "Test loss:0.5528, Test Acc: 79.70\n",
            "Epoch: 4\n",
            "-------\n",
            "\n",
            "Train loss:0.5398, Train Acc: 80.67\n",
            "\n",
            "Test loss:0.5892, Test Acc: 78.61\n",
            "Epoch: 5\n",
            "-------\n",
            "\n",
            "Train loss:0.5267, Train Acc: 81.21\n",
            "\n",
            "Test loss:0.5291, Test Acc: 81.04\n",
            "Epoch: 6\n",
            "-------\n",
            "\n",
            "Train loss:0.5150, Train Acc: 81.71\n",
            "\n",
            "Test loss:0.5231, Test Acc: 81.21\n",
            "Epoch: 7\n",
            "-------\n",
            "\n",
            "Train loss:0.5061, Train Acc: 81.94\n",
            "\n",
            "Test loss:0.5572, Test Acc: 80.17\n",
            "Epoch: 8\n",
            "-------\n",
            "\n",
            "Train loss:0.5001, Train Acc: 82.14\n",
            "\n",
            "Test loss:0.5145, Test Acc: 81.54\n",
            "Epoch: 9\n",
            "-------\n",
            "\n",
            "Train loss:0.4939, Train Acc: 82.46\n",
            "\n",
            "Test loss:0.5194, Test Acc: 81.24\n"
          ]
        }
      ]
    },
    {
      "cell_type": "markdown",
      "source": [
        "評估模型"
      ],
      "metadata": {
        "id": "mK8Le2gFdCKv"
      }
    },
    {
      "cell_type": "code",
      "source": [
        "# 評估\n",
        "def eval_model(dataloader, model, loss_fn, accuracy_fn, device):\n",
        "  # 初始化\n",
        "  test_loss = 0\n",
        "  test_acc = 0\n",
        "\n",
        "  # 測試階段\n",
        "  model.eval()  # 評估模式，會關閉dropout等訓練專用層\n",
        "  with torch.inference_mode():\n",
        "    for x,y in dataloader:\n",
        "      x = x.to(device)\n",
        "      y = y.to(device)\n",
        "\n",
        "      test_pred = model(x)\n",
        "      test_loss += loss_fn(test_pred, y)\n",
        "      test_acc += accuracy_fn(test_pred.argmax(dim=1), y)\n",
        "\n",
        "    # 計算平均\n",
        "    test_loss /= len(test_dataloader)\n",
        "    test_acc /= len(test_dataloader)\n",
        "  return{\n",
        "      \"model_name\": model.__class__.__name__,\n",
        "      \"model_loss\": test_loss.item(),\n",
        "      \"model_acc\": test_acc.item(),\n",
        "  }\n"
      ],
      "metadata": {
        "id": "1m9Jr3wFlcdB"
      },
      "execution_count": 59,
      "outputs": []
    },
    {
      "cell_type": "code",
      "source": [
        "model_1_result = eval_model(test_dataloader, model, loss_fn, accuracy_fn, device)\n",
        "model_1_result"
      ],
      "metadata": {
        "colab": {
          "base_uri": "https://localhost:8080/"
        },
        "id": "gjBr5o0ElcYd",
        "outputId": "8a8c1ac7-17e7-4c7e-fbfd-110fac023359"
      },
      "execution_count": 60,
      "outputs": [
        {
          "output_type": "execute_result",
          "data": {
            "text/plain": [
              "{'model_name': 'ImageClassificationModel',\n",
              " 'model_loss': 1.7712616920471191,\n",
              " 'model_acc': 71.61541748046875}"
            ]
          },
          "metadata": {},
          "execution_count": 60
        }
      ]
    },
    {
      "cell_type": "code",
      "source": [
        "model_2_result = eval_model(test_dataloader, model_2, loss_fn, accuracy_fn, device)\n",
        "model_2_result"
      ],
      "metadata": {
        "colab": {
          "base_uri": "https://localhost:8080/"
        },
        "id": "SwEIoVWBlcaz",
        "outputId": "271aac8c-6bd4-4a44-cb7a-b9a64ff7e6e7"
      },
      "execution_count": 61,
      "outputs": [
        {
          "output_type": "execute_result",
          "data": {
            "text/plain": [
              "{'model_name': 'ImageClassificationModel2',\n",
              " 'model_loss': 0.5193735361099243,\n",
              " 'model_acc': 81.2400131225586}"
            ]
          },
          "metadata": {},
          "execution_count": 61
        }
      ]
    },
    {
      "cell_type": "markdown",
      "source": [
        "準確率與損失調整後效果皆有提升"
      ],
      "metadata": {
        "id": "qYhXMW8cqP9G"
      }
    },
    {
      "cell_type": "markdown",
      "source": [
        "# 用CNN分類"
      ],
      "metadata": {
        "id": "j6JooMpnqFbd"
      }
    },
    {
      "cell_type": "code",
      "source": [
        "# 定義卷積層：輸入灰階圖，輸出八個不同的特徵圖，卷積核3*3，步幅1，周圍填充1個像素\n",
        "conv_layer = nn.Conv2d(in_channels=1, out_channels=8, kernel_size=(3,3),stride=1, padding=1)\n",
        "conv_layer(x_first_batch[0]).shape"
      ],
      "metadata": {
        "id": "HxG49rnj-wXy",
        "colab": {
          "base_uri": "https://localhost:8080/"
        },
        "outputId": "36b36661-2ba9-4cf3-fdbb-8e9ef85617a0"
      },
      "execution_count": 62,
      "outputs": [
        {
          "output_type": "execute_result",
          "data": {
            "text/plain": [
              "torch.Size([8, 28, 28])"
            ]
          },
          "metadata": {},
          "execution_count": 62
        }
      ]
    },
    {
      "cell_type": "code",
      "source": [
        "# 卷積層\n",
        "conv_layer = nn.Conv2d(in_channels=1, out_channels=8, kernel_size=(3,3),stride=1, padding=1)\n",
        "conv_output = conv_layer(x_first_batch[0])\n",
        "print(conv_output.shape)\n",
        "# 最大池化層\n",
        "maxpool = nn.MaxPool2d(kernel_size=(2,2), stride=2, padding = 0)\n",
        "print(maxpool(conv_output).shape)"
      ],
      "metadata": {
        "colab": {
          "base_uri": "https://localhost:8080/"
        },
        "id": "yeO5-wLs-wot",
        "outputId": "603e7904-fd60-45ae-b7ba-df02e70f7328"
      },
      "execution_count": 63,
      "outputs": [
        {
          "output_type": "stream",
          "name": "stdout",
          "text": [
            "torch.Size([8, 28, 28])\n",
            "torch.Size([8, 14, 14])\n"
          ]
        }
      ]
    },
    {
      "cell_type": "code",
      "source": [
        "class ImageClassificationModel3(nn.Module): # 繼承nn.Module，結構類似VGG\n",
        "  def __init__(self, input_shape, output_shape):\n",
        "     super().__init__()\n",
        "\n",
        "     # 定義卷積block1(卷積層*2, 池化層*1, 積活層*1)\n",
        "     self.conv_block_1 = nn.Sequential(\n",
        "        nn.Conv2d(in_channels=input_shape,\n",
        "          out_channels=8,\n",
        "          kernel_size=(3,3),\n",
        "          stride=1,\n",
        "          padding=1\n",
        "        ),\n",
        "        nn.ReLU(),\n",
        "        nn.Conv2d(in_channels=8,\n",
        "          out_channels=8,\n",
        "          kernel_size=(3,3),\n",
        "          stride=1,\n",
        "          padding=1\n",
        "        ),\n",
        "        nn.ReLU(),\n",
        "        nn.MaxPool2d(kernel_size = (2,2),\n",
        "          stride = 2,\n",
        "          padding = 0\n",
        "        )\n",
        "     )\n",
        "\n",
        "     # 定義卷積block2(卷積層*2, 池化層*1)\n",
        "     self.conv_block_2 = nn.Sequential(\n",
        "        nn.Conv2d(in_channels=8,\n",
        "          out_channels=16,\n",
        "          kernel_size=(3,3),\n",
        "          stride=1,\n",
        "          padding=1\n",
        "        ),\n",
        "        nn.ReLU(),\n",
        "        nn.Conv2d(in_channels=16,\n",
        "          out_channels=16,\n",
        "          kernel_size=(3,3),\n",
        "          stride=1,\n",
        "          padding=1\n",
        "        ),\n",
        "        nn.ReLU(),\n",
        "        nn.MaxPool2d(kernel_size = (2,2),\n",
        "          stride = 2,\n",
        "          padding = 0\n",
        "        )\n",
        "     )\n",
        "\n",
        "     # 定義分類器(全鍊接層*3)\n",
        "     self.classifier = nn.Sequential(\n",
        "        nn.Flatten(start_dim=1, end_dim=-1),\n",
        "        nn.Linear(in_features=7*7*16, out_features=5),\n",
        "        nn.ReLU(),\n",
        "        nn.Linear(in_features=5, out_features=8),\n",
        "        nn.ReLU(),\n",
        "        nn.Linear(in_features=8, out_features=output_shape)\n",
        "     )\n",
        "\n",
        "  # 定義前向傳播\n",
        "  def forward(self, x):\n",
        "    x = self.conv_block_1(x)  # x通過block1\n",
        "    x = self.conv_block_2(x)  # x通過block2\n",
        "    x = self.classifier(x)  # 得到輸出\n",
        "    return x"
      ],
      "metadata": {
        "id": "rhsGcrH2MdsA"
      },
      "execution_count": 72,
      "outputs": []
    },
    {
      "cell_type": "code",
      "source": [
        "model_3 = ImageClassificationModel3(1, 10)  # 輸入channel：1，類別：10\n",
        "model_3.to(device)  # 轉移到裝置\n",
        "loss_fn = nn.CrossEntropyLoss()  # 定義損失函數\n",
        "optimizer = torch.optim.SGD(model_3.parameters(), lr = 0.01)  # 定義優化契：隨機梯度下降，學習率：0.01"
      ],
      "metadata": {
        "id": "bdvnls4ZNVNs"
      },
      "execution_count": 73,
      "outputs": []
    },
    {
      "cell_type": "code",
      "source": [
        "# 訓練與評估\n",
        "from tqdm.auto import tqdm\n",
        "epochs = 10\n",
        "for epoch in tqdm(range(epochs)):\n",
        "  print(f\"Epoch: {epoch}\\n-------\")\n",
        "  train_step(train_dataloader, model_3, loss_fn, optimizer, accuracy_fn, device)\n",
        "  test_step(test_dataloader, model_3, loss_fn, accuracy_fn, device)"
      ],
      "metadata": {
        "colab": {
          "base_uri": "https://localhost:8080/",
          "height": 1000,
          "referenced_widgets": [
            "1cfdfef1649c4673a63d59a7de59c720",
            "ee924562949b4f1391115a42782960c1",
            "a927dc6621cb4fd18c5e1f53ff0a1a81",
            "797489a791df47f495a8a7e994f22d8a",
            "1865358c079d43b5b43208f2bc2d6a10",
            "9809b51cf54142bebf89c15c2270a65c",
            "407e62ad3c1842ff8ebd4fdd3d1625cc",
            "75a6fddd65444435b8e9df70f7893ddd",
            "43d2242b9b0a4c8cabf959368587fc06",
            "a233159441f34aba9a81e0d08dda518a",
            "0dcc702990ae45a28029c92d71ec2b2a"
          ]
        },
        "id": "hoRFU6nLRAQ_",
        "outputId": "223e34cf-d89e-4804-cf00-8ec1ed5e7a24"
      },
      "execution_count": 66,
      "outputs": [
        {
          "output_type": "display_data",
          "data": {
            "text/plain": [
              "  0%|          | 0/10 [00:00<?, ?it/s]"
            ],
            "application/vnd.jupyter.widget-view+json": {
              "version_major": 2,
              "version_minor": 0,
              "model_id": "1cfdfef1649c4673a63d59a7de59c720"
            }
          },
          "metadata": {}
        },
        {
          "output_type": "stream",
          "name": "stdout",
          "text": [
            "Epoch: 0\n",
            "-------\n",
            "\n",
            "Train loss:2.3052, Train Acc: 10.00\n",
            "\n",
            "Test loss:2.3010, Test Acc: 9.99\n",
            "Epoch: 1\n",
            "-------\n",
            "\n",
            "Train loss:2.0427, Train Acc: 20.63\n",
            "\n",
            "Test loss:1.3128, Test Acc: 49.13\n",
            "Epoch: 2\n",
            "-------\n",
            "\n",
            "Train loss:1.2021, Train Acc: 50.98\n",
            "\n",
            "Test loss:1.0682, Test Acc: 57.43\n",
            "Epoch: 3\n",
            "-------\n",
            "\n",
            "Train loss:0.9367, Train Acc: 61.99\n",
            "\n",
            "Test loss:0.8240, Test Acc: 68.29\n",
            "Epoch: 4\n",
            "-------\n",
            "\n",
            "Train loss:0.7138, Train Acc: 72.07\n",
            "\n",
            "Test loss:0.6555, Test Acc: 75.02\n",
            "Epoch: 5\n",
            "-------\n",
            "\n",
            "Train loss:0.5976, Train Acc: 77.14\n",
            "\n",
            "Test loss:0.5400, Test Acc: 80.21\n",
            "Epoch: 6\n",
            "-------\n",
            "\n",
            "Train loss:0.5272, Train Acc: 80.75\n",
            "\n",
            "Test loss:0.4935, Test Acc: 82.11\n",
            "Epoch: 7\n",
            "-------\n",
            "\n",
            "Train loss:0.4825, Train Acc: 82.56\n",
            "\n",
            "Test loss:0.4613, Test Acc: 83.22\n",
            "Epoch: 8\n",
            "-------\n",
            "\n",
            "Train loss:0.4469, Train Acc: 83.94\n",
            "\n",
            "Test loss:0.4423, Test Acc: 84.20\n",
            "Epoch: 9\n",
            "-------\n",
            "\n",
            "Train loss:0.4220, Train Acc: 84.80\n",
            "\n",
            "Test loss:0.4227, Test Acc: 84.77\n"
          ]
        }
      ]
    },
    {
      "cell_type": "code",
      "source": [
        "# 評估效能\n",
        "model_3_result = eval_model(test_dataloader, model_3, loss_fn, accuracy_fn, device)\n",
        "model_3_result"
      ],
      "metadata": {
        "colab": {
          "base_uri": "https://localhost:8080/"
        },
        "id": "JTVLRKUTRsr3",
        "outputId": "2744d0b2-496b-4285-e545-82a186279201"
      },
      "execution_count": 74,
      "outputs": [
        {
          "output_type": "execute_result",
          "data": {
            "text/plain": [
              "{'model_name': 'ImageClassificationModel3',\n",
              " 'model_loss': 2.3171870708465576,\n",
              " 'model_acc': 9.994009971618652}"
            ]
          },
          "metadata": {},
          "execution_count": 74
        }
      ]
    },
    {
      "cell_type": "markdown",
      "source": [
        "# CNN模型2"
      ],
      "metadata": {
        "id": "P2dY_tQYgLpF"
      }
    },
    {
      "cell_type": "code",
      "source": [
        "class ImageClassificationModel4(nn.Module): # CNN(simple VGG)\n",
        "  def __init__(self, input_shape, output_shape):\n",
        "    super().__init__()\n",
        "    self.conv_block_1 = nn.Sequential(\n",
        "      nn.Conv2d(in_channels=input_shape,\n",
        "        out_channels=8,\n",
        "        kernel_size=(3,3),\n",
        "        stride=1,\n",
        "        padding=1\n",
        "      ),\n",
        "      nn.ReLU(),\n",
        "      nn.Conv2d(in_channels=8,\n",
        "        out_channels=8,\n",
        "        kernel_size=(3,3),\n",
        "        stride=1,\n",
        "        padding=1\n",
        "      ),\n",
        "      nn.ReLU(),\n",
        "      nn.MaxPool2d(kernel_size = (2,2),\n",
        "        stride = 2,\n",
        "        padding = 0\n",
        "      )\n",
        "    )\n",
        "    self.conv_block_2 = nn.Sequential(\n",
        "      nn.Conv2d(in_channels=8,\n",
        "        out_channels=16,\n",
        "        kernel_size=(3,3),\n",
        "        stride=1,\n",
        "        padding=1\n",
        "      ),\n",
        "      nn.ReLU(),\n",
        "      nn.Conv2d(in_channels=16,\n",
        "        out_channels=16,\n",
        "        kernel_size=(3,3),\n",
        "        stride=1,\n",
        "        padding=1\n",
        "      ),\n",
        "      nn.ReLU(),\n",
        "      nn.MaxPool2d(kernel_size = (2,2),\n",
        "        stride = 2,\n",
        "        padding = 0\n",
        "      )\n",
        "    )\n",
        "\n",
        "    # 與CNN原模型比，全鍊接層從2層減少為1層\n",
        "    self.classifier = nn.Sequential(\n",
        "      nn.Flatten(start_dim=1, end_dim=-1),\n",
        "      nn.Linear(in_features=7*7*16, out_features=output_shape)\n",
        "\n",
        "    )\n",
        "\n",
        "  def forward(self, x):\n",
        "    x = self.conv_block_1(x)\n",
        "    x = self.conv_block_2(x)\n",
        "    x = self.classifier(x)\n",
        "    return x"
      ],
      "metadata": {
        "id": "qYF8luYVT0KP"
      },
      "execution_count": 68,
      "outputs": []
    },
    {
      "cell_type": "code",
      "source": [
        "model_4 = ImageClassificationModel4(1, 10)\n",
        "model_4.to(device)\n",
        "loss_fn = nn.CrossEntropyLoss()\n",
        "optimizer = torch.optim.SGD(model_4.parameters(), lr = 0.01)\n",
        "\n",
        "# 訓練與評估\n",
        "from tqdm.auto import tqdm\n",
        "epochs = 10\n",
        "\n",
        "for epoch in tqdm(range(epochs)):\n",
        "  print(f\"Epoch: {epoch}\\n-------\")\n",
        "  train_step(train_dataloader, model_4, loss_fn, optimizer, accuracy_fn, device)\n",
        "  test_step(test_dataloader, model_4, loss_fn, accuracy_fn, device)"
      ],
      "metadata": {
        "id": "9vV53sxcT9ge",
        "colab": {
          "base_uri": "https://localhost:8080/",
          "height": 1000,
          "referenced_widgets": [
            "f470f2b618e94e238e1d8bbb272cbef2",
            "871a305fce644963940cc5f5d649093d",
            "180622098916498390414e3f98e9fcb6",
            "e36110450f0f4d2fa9d557b2f01c5b51",
            "18d9979add0e488f8ff3d94ec97a62b1",
            "e9282b7b5026437097062a92bd6c6e41",
            "a9e8f68e9afd422ba1110f4f2ecb0117",
            "f0a860d2fdfb4e169a620dbe1b77c727",
            "9578a13908734d7d98074ea3b9750d22",
            "7d40054d5f594c2a875c54083c7e1bc8",
            "4b0d4e2435b94f3a9eb032c8fc7a5d69"
          ]
        },
        "outputId": "f3f58ab6-5616-407c-e902-3844fe124e09"
      },
      "execution_count": 77,
      "outputs": [
        {
          "output_type": "display_data",
          "data": {
            "text/plain": [
              "  0%|          | 0/10 [00:00<?, ?it/s]"
            ],
            "application/vnd.jupyter.widget-view+json": {
              "version_major": 2,
              "version_minor": 0,
              "model_id": "f470f2b618e94e238e1d8bbb272cbef2"
            }
          },
          "metadata": {}
        },
        {
          "output_type": "stream",
          "name": "stdout",
          "text": [
            "Epoch: 0\n",
            "-------\n",
            "\n",
            "Train loss:1.0902, Train Acc: 61.37\n",
            "\n",
            "Test loss:0.6330, Test Acc: 76.69\n",
            "Epoch: 1\n",
            "-------\n",
            "\n",
            "Train loss:0.5057, Train Acc: 81.89\n",
            "\n",
            "Test loss:0.5313, Test Acc: 79.75\n",
            "Epoch: 2\n",
            "-------\n",
            "\n",
            "Train loss:0.4409, Train Acc: 84.33\n",
            "\n",
            "Test loss:0.4401, Test Acc: 84.43\n",
            "Epoch: 3\n",
            "-------\n",
            "\n",
            "Train loss:0.4018, Train Acc: 85.74\n",
            "\n",
            "Test loss:0.4214, Test Acc: 84.68\n",
            "Epoch: 4\n",
            "-------\n",
            "\n",
            "Train loss:0.3737, Train Acc: 86.69\n",
            "\n",
            "Test loss:0.3869, Test Acc: 86.44\n",
            "Epoch: 5\n",
            "-------\n",
            "\n",
            "Train loss:0.3522, Train Acc: 87.37\n",
            "\n",
            "Test loss:0.3916, Test Acc: 86.10\n",
            "Epoch: 6\n",
            "-------\n",
            "\n",
            "Train loss:0.3364, Train Acc: 88.10\n",
            "\n",
            "Test loss:0.3575, Test Acc: 87.18\n",
            "Epoch: 7\n",
            "-------\n",
            "\n",
            "Train loss:0.3257, Train Acc: 88.35\n",
            "\n",
            "Test loss:0.3660, Test Acc: 86.94\n",
            "Epoch: 8\n",
            "-------\n",
            "\n",
            "Train loss:0.3139, Train Acc: 88.77\n",
            "\n",
            "Test loss:0.3394, Test Acc: 87.86\n",
            "Epoch: 9\n",
            "-------\n",
            "\n",
            "Train loss:0.3041, Train Acc: 89.10\n",
            "\n",
            "Test loss:0.3306, Test Acc: 88.28\n"
          ]
        }
      ]
    },
    {
      "cell_type": "code",
      "source": [
        "model_4_result = eval_model(test_dataloader, model_4, loss_fn, accuracy_fn, device)\n",
        "model_4_result"
      ],
      "metadata": {
        "id": "3jer91MsUDBm",
        "colab": {
          "base_uri": "https://localhost:8080/"
        },
        "outputId": "fe1e1149-3bfb-4063-c1d2-c24fd0a3dd65"
      },
      "execution_count": 78,
      "outputs": [
        {
          "output_type": "execute_result",
          "data": {
            "text/plain": [
              "{'model_name': 'ImageClassificationModel4',\n",
              " 'model_loss': 0.3305507004261017,\n",
              " 'model_acc': 88.27875518798828}"
            ]
          },
          "metadata": {},
          "execution_count": 78
        }
      ]
    }
  ]
}