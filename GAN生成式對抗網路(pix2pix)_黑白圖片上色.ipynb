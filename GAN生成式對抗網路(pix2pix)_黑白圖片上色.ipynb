{
  "cells": [
    {
      "cell_type": "markdown",
      "source": [
        "因GitHub受限於檔案大小限制，因此本專案使用colab呈現，請點擊連結網址跳轉觀看，謝謝您。  \n",
        "https://drive.google.com/file/d/19Siym8V0BuJXPr87o2cL-JkYYyT_AI4V/view?usp=sharing"
      ],
      "metadata": {
        "id": "t1reqo2Gtlwb"
      }
    }
  ],
  "metadata": {
    "accelerator": "GPU",
    "colab": {
      "gpuType": "T4",
      "provenance": []
    },
    "kernelspec": {
      "display_name": "Python 3 (ipykernel)",
      "language": "python",
      "name": "python3"
    },
    "language_info": {
      "codemirror_mode": {
        "name": "ipython",
        "version": 3
      },
      "file_extension": ".py",
      "mimetype": "text/x-python",
      "name": "python",
      "nbconvert_exporter": "python",
      "pygments_lexer": "ipython3",
      "version": "3.11.9"
    }
  },
  "nbformat": 4,
  "nbformat_minor": 0
}